{
  "cells": [
    {
      "cell_type": "markdown",
      "metadata": {
        "id": "view-in-github",
        "colab_type": "text"
      },
      "source": [
        "<a href=\"https://colab.research.google.com/github/AveryGaoo/Colab-notebooks/blob/main/Week5_ExercisesTrain.ipynb\" target=\"_parent\"><img src=\"https://colab.research.google.com/assets/colab-badge.svg\" alt=\"Open In Colab\"/></a>"
      ]
    },
    {
      "cell_type": "markdown",
      "metadata": {
        "id": "0PSQRcYiw3U0"
      },
      "source": [
        "1. Write a Python program that:\n",
        "* Asks the user to input 5 numbers.\n",
        "* Stores them in a list.\n",
        "* Prints the sum and the average of the numbers."
      ]
    },
    {
      "cell_type": "code",
      "source": [
        "numbers = []\n",
        "\n",
        "num = input(\"Please input 5 numbers:\")\n",
        "\n",
        "num = num. replace(\",\", \" \")\n",
        "\n",
        "#numbers = [int(i) for i in num.split()]\n",
        "for i in num.split():   #split():Python 字符串的方法，用来把一个字符串 按照指定分隔符 拆成一个列表\n",
        "    numbers.append(int(i))\n",
        "\n",
        "print(numbers)\n",
        "print(sum(numbers))\n",
        "print(int(sum(numbers)/len(numbers)))\n"
      ],
      "metadata": {
        "colab": {
          "base_uri": "https://localhost:8080/"
        },
        "id": "TICZPLQKQl4W",
        "outputId": "bd37cd66-5bab-474c-b03d-d2e041bebbb7"
      },
      "execution_count": 12,
      "outputs": [
        {
          "output_type": "stream",
          "name": "stdout",
          "text": [
            "Please input 5 numbers:1,2,3,4,5\n",
            "[1, 2, 3, 4, 5]\n",
            "15\n",
            "3\n"
          ]
        }
      ]
    },
    {
      "cell_type": "markdown",
      "metadata": {
        "id": "5PrU647Lx9NV"
      },
      "source": [
        "2. Given a list of integers, count how many are even and how many are odd."
      ]
    },
    {
      "cell_type": "code",
      "source": [
        "#给定一个整数列表，计算其中有多少个是偶数，有多少个是奇数\n",
        "\n",
        "numbers = [1,2,3,4,5]\n",
        "even, odd = 0, 0\n",
        "\n",
        "for i in numbers:\n",
        "  if i % 2 == 0:\n",
        "    even += 1\n",
        "  else:\n",
        "    odd += 1\n",
        "\n",
        "print(f\"have {even} even number, {odd} odd number.\")\n",
        "\n"
      ],
      "metadata": {
        "colab": {
          "base_uri": "https://localhost:8080/"
        },
        "id": "BPrLum9ETX4b",
        "outputId": "4eb53705-0568-4509-e2d1-8d385470a4a2"
      },
      "execution_count": 14,
      "outputs": [
        {
          "output_type": "stream",
          "name": "stdout",
          "text": [
            "have 2 even number, 3 odd number.\n"
          ]
        }
      ]
    },
    {
      "cell_type": "markdown",
      "metadata": {
        "id": "DSjJ00ZUzTTh"
      },
      "source": [
        "3. Without using the built-in functions max() and min(), find the maximum and minimum in a list."
      ]
    },
    {
      "cell_type": "code",
      "source": [
        "#不使用内置函数 max() 和 min()，找出列表中的最大值和最小值。\n",
        "\n",
        "num = [1,2,3,5,4]\n",
        "\n",
        "for i in range(len(num)):          # [2,1,3,5,4] [2,3,1,5,4] [2,3,5,1,4] [2,3,5,4,1]\n",
        "  for n in range(i+1, len(num)):\n",
        "    if i < n and num[i] < num[n]:\n",
        "      num[i], num[n] = num[n], num[i]\n",
        "print(f\"The min number is {num[-1]}.\")\n",
        "\n",
        "for i in range(len(num)):          # [1,2,3,5,4] [1,2,3,5,4] [1,2,3,5,4] [1,2,3,4,5]\n",
        "  for n in range(i+1, len(num)):\n",
        "    if i < n and num[i] > num[n]:\n",
        "      num[i], num[n] = num[n], num[i]\n",
        "print(f\"The max number is {num[-1]}.\")"
      ],
      "metadata": {
        "colab": {
          "base_uri": "https://localhost:8080/"
        },
        "id": "jgp5WPyrUXFN",
        "outputId": "7c969070-6b52-49d9-b833-b6dbc863ae0a"
      },
      "execution_count": 18,
      "outputs": [
        {
          "output_type": "stream",
          "name": "stdout",
          "text": [
            "The min number is 1.\n",
            "The max number is 5.\n"
          ]
        }
      ]
    },
    {
      "cell_type": "markdown",
      "metadata": {
        "id": "1s3rSws3z9rq"
      },
      "source": [
        "4. Write a program that removes all duplicate elements from a list.\n",
        "\n",
        "\n"
      ]
    },
    {
      "cell_type": "code",
      "source": [
        "#编写一个程序，从列表中删除所有重复元素。\n",
        "\n",
        "num = [2,2,3,3,3,4,1,5]\n",
        "newnum = list(set(num))\n",
        "print(newnum)"
      ],
      "metadata": {
        "colab": {
          "base_uri": "https://localhost:8080/"
        },
        "id": "M2KyyCHNX9I6",
        "outputId": "dc964a69-aae5-4d64-bb1f-a36e388195f8"
      },
      "execution_count": 22,
      "outputs": [
        {
          "output_type": "stream",
          "name": "stdout",
          "text": [
            "[1, 2, 3, 4, 5]\n"
          ]
        }
      ]
    },
    {
      "cell_type": "code",
      "source": [
        "num = [2,2,3,3,3,4,1,5]\n",
        "\n",
        "unique_num = []\n",
        "\n",
        "for i in num:\n",
        "    if i not in unique_num:\n",
        "        unique_num.append(i)\n",
        "\n",
        "print(unique_num)"
      ],
      "metadata": {
        "colab": {
          "base_uri": "https://localhost:8080/"
        },
        "id": "7Az80mBIZMGW",
        "outputId": "72608bd3-bbb3-4ac9-e943-f79e1435be4d"
      },
      "execution_count": 24,
      "outputs": [
        {
          "output_type": "stream",
          "name": "stdout",
          "text": [
            "[2, 3, 4, 1, 5]\n"
          ]
        }
      ]
    },
    {
      "cell_type": "markdown",
      "metadata": {
        "id": "ZrkYmiLsQfqK"
      },
      "source": [
        "5. Given a list of integers, create two new lists: one with positive numbers and one with negative numbers."
      ]
    },
    {
      "cell_type": "code",
      "source": [
        "#给定一个整数列表，创建两个新列表：一个包含正数，一个包含负数\n",
        "\n",
        "num = [-2,2,-3,3,4,-1,5]\n",
        "num1 = []\n",
        "num2 = []\n",
        "for i in num:\n",
        "  if i > 0:\n",
        "    num1.append(i)\n",
        "  if i < 0:\n",
        "    num2.append(i)\n",
        "\n",
        "print(num1, num2)\n"
      ],
      "metadata": {
        "colab": {
          "base_uri": "https://localhost:8080/"
        },
        "id": "KvJIgN2NZilM",
        "outputId": "bc7dfe1e-4a8a-4938-f3d7-6eff3f85d440"
      },
      "execution_count": 27,
      "outputs": [
        {
          "output_type": "stream",
          "name": "stdout",
          "text": [
            "[2, 3, 4, 5] [-2, -3, -1]\n"
          ]
        }
      ]
    },
    {
      "cell_type": "markdown",
      "metadata": {
        "id": "cFtaUrZGQfqL"
      },
      "source": [
        "6. Class and Object Creation\n",
        "\n",
        "Create a class called Car with the following attributes: brand, model, and year. A method display_info() that prints the car’s information in a readable format. Then create two car objects and print their info.\n",
        "\n",
        "Example Output:\n",
        "\n",
        "Brand: Toyota, Model: Corolla, Year: 2020\n",
        "\n",
        "Brand: Tesla, Model: Model 3, Year: 2022"
      ]
    },
    {
      "cell_type": "code",
      "source": [
        "#6.类和对象的创建\n",
        "#创建一个名为 Car 的类，其属性包括：品牌、型号和年份。创建 display_info() 方法，用于以可读格式打印汽车信息。然后创建两个汽车对象并打印它们的信息。\n",
        "\n",
        "#示例输出：\n",
        "#品牌：丰田，型号：卡罗拉，年份：2020\n",
        "#品牌：特斯拉，型号：Model 3，年份：2022"
      ],
      "metadata": {
        "id": "KuTcq_m6aRAe"
      },
      "execution_count": null,
      "outputs": []
    },
    {
      "cell_type": "code",
      "source": [
        "class Car:\n",
        "  def __init__(self, brand, model, year):\n",
        "    self.brand = brand\n",
        "    self.model = model\n",
        "    self.year = year\n",
        "\n",
        "  def display_info(self):\n",
        "    print(f\"Brand: {self.brand}; Model: {self.model}; Year: {self.year}\")\n",
        "\n",
        "car1 = Car(\"Toyota\", \"Corolla\", 2020)\n",
        "\n",
        "car1.display_info()"
      ],
      "metadata": {
        "colab": {
          "base_uri": "https://localhost:8080/"
        },
        "id": "ajHOf5Y6byqf",
        "outputId": "d435fa30-c256-4a65-9d5e-f3bfb4ff06d2"
      },
      "execution_count": 1,
      "outputs": [
        {
          "output_type": "stream",
          "name": "stdout",
          "text": [
            "Brand: Toyota; Model: Corolla; Year: 2020\n"
          ]
        }
      ]
    },
    {
      "cell_type": "markdown",
      "metadata": {
        "id": "91unmWn2QfqL"
      },
      "source": [
        "7. Create a class BankAccount that has attributes owner and balance (default = 0) and the  Methods deposit(amount),\n",
        "withdraw(amount) (only if enough balance) and show_balance()."
      ]
    },
    {
      "cell_type": "code",
      "execution_count": 6,
      "metadata": {
        "colab": {
          "base_uri": "https://localhost:8080/"
        },
        "id": "RAHBoY5wQfqL",
        "outputId": "51fe5b45-0efe-42fb-bc97-f3173667edc7"
      },
      "outputs": [
        {
          "output_type": "stream",
          "name": "stdout",
          "text": [
            "The bank balance is 0\n",
            "\n",
            "The bank balance is 1000\n",
            "\n",
            "The bank balance is 800\n",
            "\n",
            "The bank balance is 1100\n"
          ]
        }
      ],
      "source": [
        "#创建一个 BankAccount 类，该类具有属性 owner 和 balance（默认值 = 0）\n",
        "#以及方法 deposit(amount)、withdraw(amount)（仅当余额足够时）和 show_balance()\n",
        "\n",
        "class BankAccount:\n",
        "  def __init__(self, owner, balance = 0):\n",
        "    self.owner = owner\n",
        "    self.balance = balance\n",
        "\n",
        "\n",
        "  def deposit(self, amount):\n",
        "    self.balance += amount\n",
        "\n",
        "\n",
        "  def withdraw(self, amount):\n",
        "    if self.balance >= amount:\n",
        "      self.balance -= amount\n",
        "    else:\n",
        "      print(\"Insufficient balance.\")\n",
        "\n",
        "  def show_balance(self):\n",
        "    print(f\"The bank balance is {self.balance}\")\n",
        "\n",
        "\n",
        "BA = BankAccount(\"Bob\")\n",
        "BA.show_balance()\n",
        "print(\"\")\n",
        "\n",
        "BA.deposit(1000)\n",
        "BA.show_balance()\n",
        "print(\"\")\n",
        "\n",
        "BA.withdraw(200)\n",
        "BA.show_balance()\n",
        "print(\"\")\n",
        "\n",
        "BA.deposit(300)\n",
        "BA.show_balance()\n"
      ]
    },
    {
      "cell_type": "code",
      "source": [],
      "metadata": {
        "id": "q1hmy2jeTInQ"
      },
      "execution_count": null,
      "outputs": []
    }
  ],
  "metadata": {
    "colab": {
      "provenance": [],
      "include_colab_link": true
    },
    "kernelspec": {
      "display_name": "Python 3 (ipykernel)",
      "language": "python",
      "name": "python3"
    },
    "language_info": {
      "codemirror_mode": {
        "name": "ipython",
        "version": 3
      },
      "file_extension": ".py",
      "mimetype": "text/x-python",
      "name": "python",
      "nbconvert_exporter": "python",
      "pygments_lexer": "ipython3",
      "version": "3.12.7"
    }
  },
  "nbformat": 4,
  "nbformat_minor": 0
}