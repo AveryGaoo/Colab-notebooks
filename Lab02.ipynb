{
  "nbformat": 4,
  "nbformat_minor": 0,
  "metadata": {
    "colab": {
      "provenance": [],
      "authorship_tag": "ABX9TyOmwGqMCpvs4/xTgsvuGIaA",
      "include_colab_link": true
    },
    "kernelspec": {
      "name": "python3",
      "display_name": "Python 3"
    },
    "language_info": {
      "name": "python"
    }
  },
  "cells": [
    {
      "cell_type": "markdown",
      "metadata": {
        "id": "view-in-github",
        "colab_type": "text"
      },
      "source": [
        "<a href=\"https://colab.research.google.com/github/AveryGaoo/Colab-notebooks/blob/main/Lab02.ipynb\" target=\"_parent\"><img src=\"https://colab.research.google.com/assets/colab-badge.svg\" alt=\"Open In Colab\"/></a>"
      ]
    },
    {
      "cell_type": "code",
      "execution_count": 4,
      "metadata": {
        "colab": {
          "base_uri": "https://localhost:8080/"
        },
        "id": "vywY2hAcz7Zp",
        "outputId": "2e73555f-f667-4bab-ed03-0f280283e422"
      },
      "outputs": [
        {
          "output_type": "stream",
          "name": "stdout",
          "text": [
            "Your name:Avery\n",
            "Your age:26\n",
            "Your birth year is 1999.\n"
          ]
        }
      ],
      "source": [
        "# 1) Ask the user to insert his name and age. Then, calculate his birth year.\n",
        "Name = input(\"Your name:\")\n",
        "Age  = input(\"Your age:\")\n",
        "Birth_year = 2025 - int(Age)\n",
        "print(f\"Your birth year is {Birth_year}.\")"
      ]
    },
    {
      "cell_type": "code",
      "source": [
        "# 2) Think1: Ask the user to insert a text. The program will always answer \"yes\". The conversation will be closed when the user says \"bye\".\n",
        "text = input(\"Insert a text:\")\n",
        "while text.lower() != \"bye\":\n",
        "  print(\"yes\")\n",
        "  text = input(\"Insert a text:\")\n",
        "exit()"
      ],
      "metadata": {
        "colab": {
          "base_uri": "https://localhost:8080/"
        },
        "id": "-JQB2HzT1kNh",
        "outputId": "c8b30cee-fe54-4012-91eb-26b4675f74d7"
      },
      "execution_count": 1,
      "outputs": [
        {
          "name": "stdout",
          "output_type": "stream",
          "text": [
            "Insert a text:hi\n",
            "yes\n",
            "Insert a text:bye\n"
          ]
        }
      ]
    },
    {
      "cell_type": "code",
      "source": [
        "# 2) Think2: Ask the user to insert a text. The program will always answer \"yes\". The conversation will be closed when the user says \"bye\".\n",
        "while True:\n",
        "  text = input(\"Insert a text:\")\n",
        "  if text.lower() == \"bye\":\n",
        "    break\n",
        "  else:\n",
        "    print(\"yes\")"
      ],
      "metadata": {
        "colab": {
          "base_uri": "https://localhost:8080/"
        },
        "id": "oiZqv_mS4OFC",
        "outputId": "c6e48cb7-c75d-4457-9dec-62db7a0c65c3"
      },
      "execution_count": 3,
      "outputs": [
        {
          "name": "stdout",
          "output_type": "stream",
          "text": [
            "Insert a text:hi\n",
            "yes\n",
            "Insert a text:bye\n"
          ]
        }
      ]
    },
    {
      "cell_type": "code",
      "source": [
        "# 3) Create a function for a greeting\n",
        "def greeting(name):\n",
        "  print(f\"Hello,{name}. Nice to meet you!\")\n",
        "\n",
        "greeting(\"Gao\")"
      ],
      "metadata": {
        "colab": {
          "base_uri": "https://localhost:8080/"
        },
        "id": "u-mUKZE649GC",
        "outputId": "6a10c647-3485-47db-ae7b-392733740021"
      },
      "execution_count": 4,
      "outputs": [
        {
          "output_type": "stream",
          "name": "stdout",
          "text": [
            "Hello,Gao. Nice to meet you!\n"
          ]
        }
      ]
    },
    {
      "cell_type": "code",
      "source": [
        "# 4) Call greeting function at the beginning of the conversation.\n",
        "def greeting():\n",
        "  name = input(\"Please enter your name:\")\n",
        "  print(f\"Hello,{name}! Welcome to the conversation.\")\n",
        "\n",
        "greeting()"
      ],
      "metadata": {
        "colab": {
          "base_uri": "https://localhost:8080/"
        },
        "id": "vqtiIGhU5hys",
        "outputId": "9bd52fb6-65c0-4658-a77d-3662dcad4355"
      },
      "execution_count": 8,
      "outputs": [
        {
          "output_type": "stream",
          "name": "stdout",
          "text": [
            "Please enter your name:Gao\n",
            "Hello,Gao! Welcome to the conversation.\n"
          ]
        }
      ]
    },
    {
      "cell_type": "code",
      "source": [
        "# 5) Inspirerd in the previous questions create a program that behave like a chatbot.\n",
        "from datetime import datetime\n",
        "def greeting():\n",
        "  name = input(\"Please enter your name::\")\n",
        "\n",
        "  hour = datetime.now().hour\n",
        "  if hour < 12:\n",
        "    greet = \"Good morning\"\n",
        "  elif hour < 18:\n",
        "    greet = \"Good afternoon\"\n",
        "  else:\n",
        "    greet = \"Good evening\"\n",
        "\n",
        "  print(f\"{greet}, {name}! I am your chatbot. Type 'bye' anytime to exit.\")\n",
        "  return name\n",
        "\n",
        "def chatbot():\n",
        "  user_name = greeting()\n",
        "  while True:\n",
        "    user_input = input(\"You:\")\n",
        "    if user_input.lower() == \"bye\":\n",
        "      print(f\"Bye,{user_name}!\")\n",
        "      break\n",
        "    elif \"how are you\" in user_input.lower():\n",
        "      print(\"I'm fine, thank you! And you?\")\n",
        "    elif \"name\" in user_input.lower():\n",
        "      print(\"My name is Chatbot.\")\n",
        "    else:\n",
        "      print(\"Great!\")\n",
        "\n",
        "\n",
        "chatbot()\n",
        "\n",
        "\n",
        "\n",
        "\n",
        "\n",
        "\n",
        "\n"
      ],
      "metadata": {
        "colab": {
          "base_uri": "https://localhost:8080/"
        },
        "id": "9unN0gCR7O7f",
        "outputId": "919c1ec9-a3e7-4cbb-eba4-a36a2a404b0a"
      },
      "execution_count": 12,
      "outputs": [
        {
          "output_type": "stream",
          "name": "stdout",
          "text": [
            "Please enter your name::Gao\n",
            "Good afternoon, Gao! I am your chatbot. Type 'bye' anytime to exit.\n",
            "You:hi\n",
            "Great!\n",
            "You:how are you\n",
            "I'm fine, thank you! And you?\n",
            "You:Im fine\n",
            "Great!\n",
            "You:my name\n",
            "My name is Chatbot.\n",
            "You:your name\n",
            "My name is Chatbot.\n",
            "You:bye\n",
            "Bye,Gao!\n"
          ]
        }
      ]
    }
  ]
}