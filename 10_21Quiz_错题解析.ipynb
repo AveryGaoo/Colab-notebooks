{
  "nbformat": 4,
  "nbformat_minor": 0,
  "metadata": {
    "colab": {
      "provenance": [],
      "authorship_tag": "ABX9TyNRd4N5YsQxhBCG5C/7ZVuo",
      "include_colab_link": true
    },
    "kernelspec": {
      "name": "python3",
      "display_name": "Python 3"
    },
    "language_info": {
      "name": "python"
    }
  },
  "cells": [
    {
      "cell_type": "markdown",
      "metadata": {
        "id": "view-in-github",
        "colab_type": "text"
      },
      "source": [
        "<a href=\"https://colab.research.google.com/github/AveryGaoo/PRF_ProgrammingFoundations_notebooks/blob/main/10_21Quiz_%E9%94%99%E9%A2%98%E8%A7%A3%E6%9E%90.ipynb\" target=\"_parent\"><img src=\"https://colab.research.google.com/assets/colab-badge.svg\" alt=\"Open In Colab\"/></a>"
      ]
    },
    {
      "cell_type": "markdown",
      "source": [
        "Question1: How many duplicate elements can you have in a set?\n",
        "\n",
        "Answer: 0;\n",
        "\n",
        "在集合（set）中，不能有任何重复元素。"
      ],
      "metadata": {
        "id": "OgH0yTyxNLiK"
      }
    },
    {
      "cell_type": "markdown",
      "source": [
        "Question2: What is the correct code to perform matrix multiplication on the matrix A and B?\n",
        "\n",
        "这道题是在考 矩阵相乘（matrix multiplication） 的正确写法\n",
        "\n",
        "(1) A * B\n",
        "(2) np. dot (A,B)\n",
        "(3) A x B"
      ],
      "metadata": {
        "id": "36cp9dUUNXI9"
      }
    },
    {
      "cell_type": "code",
      "source": [
        "import numpy as np\n",
        "a=np.array([0,1,0,1,0])\n",
        "b=np.array([1,0,1,0,1])\n",
        "a*b"
      ],
      "metadata": {
        "colab": {
          "base_uri": "https://localhost:8080/"
        },
        "id": "-f8H7mOcQEJJ",
        "outputId": "e1e804b4-8bed-4169-9988-4560b474a541"
      },
      "execution_count": 3,
      "outputs": [
        {
          "output_type": "execute_result",
          "data": {
            "text/plain": [
              "array([0, 0, 0, 0, 0])"
            ]
          },
          "metadata": {},
          "execution_count": 3
        }
      ]
    },
    {
      "cell_type": "code",
      "source": [
        "a=np.array([0,1])\n",
        "b=np.array([1,0])\n",
        "np.dot(a,b)"
      ],
      "metadata": {
        "colab": {
          "base_uri": "https://localhost:8080/"
        },
        "id": "84v5M4bqQKey",
        "outputId": "48e892bc-fe47-41c9-f97e-30c2d4d36fce"
      },
      "execution_count": 4,
      "outputs": [
        {
          "output_type": "execute_result",
          "data": {
            "text/plain": [
              "np.int64(0)"
            ]
          },
          "metadata": {},
          "execution_count": 4
        }
      ]
    },
    {
      "cell_type": "markdown",
      "source": [
        "| 代码写法           | 是否正确 | 原因解释                                                                                                             |\n",
        "| -------------- | ---- | ---------------------------------------------------------------------------------------------------------------- |\n",
        "| `A * B`        | ❌ 错误 | 这是**元素逐个相乘（element-wise multiplication）**，不是矩阵乘法。例如：<br>`[[1,2],[3,4]] * [[5,6],[7,8]]` → 结果是 `[[5,12],[21,32]]` |\n",
        "| `A x B`        | ❌ 错误 | Python 语法中没有 `x` 这个运算符，会报错：`SyntaxError`                                                                         |\n",
        "| `np.dot(A, B)` | ✅ 正确 | 这是 **NumPy 中进行矩阵乘法的标准方法**。它会按照线性代数规则执行：<br>`C[i,j] = A[i,:] · B[:,j]`                                            |\n",
        "\n",
        "⚠️补充说明:\n",
        "\n",
        "自 NumPy 1.10 以后，其实还有一个更简洁的写法： A @ B\n",
        "\n",
        "\n",
        "这个 @ 运算符 等价于 np.dot(A, B)，语法更现代。"
      ],
      "metadata": {
        "id": "Xqtu2JfHNjSe"
      }
    },
    {
      "cell_type": "code",
      "source": [
        "#Question3: Why L also changed ?\n",
        "#Answer: 当你把列表L传入函数时，Python传递的是引用（reference），而不是复制一份新的列表；\n",
        "#        即：Python传递的是“引用”，不是“副本”。所以L和函数参数mylist指向的是同一个列表对象。\n",
        "\n",
        "def modify(mylist):\n",
        "    mylist[0] *= 10\n",
        "    return(mylist)\n",
        "\n",
        "L = [1, 3, 5, 7, 9]\n",
        "M = modify(L)\n",
        "\n",
        "M is L"
      ],
      "metadata": {
        "colab": {
          "base_uri": "https://localhost:8080/"
        },
        "id": "XhIrSeTcN6Aq",
        "outputId": "9ca23377-81f9-4d51-dc0e-1fb8a2fb3516"
      },
      "execution_count": 1,
      "outputs": [
        {
          "output_type": "execute_result",
          "data": {
            "text/plain": [
              "True"
            ]
          },
          "metadata": {},
          "execution_count": 1
        }
      ]
    },
    {
      "cell_type": "code",
      "source": [
        "#Question4: 切片[:]会创建一个新的列表对象，但浅复制其中的元素。\n",
        "L = [2,3,4]\n",
        "M1 = L\n",
        "M2 = L[:]\n",
        "M1 is M2"
      ],
      "metadata": {
        "colab": {
          "base_uri": "https://localhost:8080/"
        },
        "id": "TE3hbhxpPb1q",
        "outputId": "f5c5d14f-24c1-428f-8d6f-2e9af7465bef"
      },
      "execution_count": 2,
      "outputs": [
        {
          "output_type": "execute_result",
          "data": {
            "text/plain": [
              "False"
            ]
          },
          "metadata": {},
          "execution_count": 2
        }
      ]
    }
  ]
}