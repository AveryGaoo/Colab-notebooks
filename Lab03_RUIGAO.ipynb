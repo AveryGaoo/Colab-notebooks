{
  "cells": [
    {
      "cell_type": "markdown",
      "metadata": {
        "id": "view-in-github",
        "colab_type": "text"
      },
      "source": [
        "<a href=\"https://colab.research.google.com/github/AveryGaoo/Colab-notebooks/blob/main/Lab03_RUIGAO.ipynb\" target=\"_parent\"><img src=\"https://colab.research.google.com/assets/colab-badge.svg\" alt=\"Open In Colab\"/></a>"
      ]
    },
    {
      "cell_type": "markdown",
      "metadata": {
        "id": "_57opK_4Aqfd"
      },
      "source": [
        "# Lab 3\n",
        "In the following cell you have several lists."
      ]
    },
    {
      "cell_type": "code",
      "execution_count": null,
      "metadata": {
        "id": "QEnVOLfJAqff"
      },
      "outputs": [],
      "source": [
        "#list of 007 movies where Sean Connery features James Bond\n",
        "moviesSeanConnery = [\"Dr. No (1962)\",\n",
        "\"From Russia with Love (1963)\",\n",
        "\"Goldfinger (1964)\",\n",
        "\"Thunderball (1965)\",\n",
        "\"You Only Live Twice (1967)\",\n",
        "\"Diamonds Are Forever (1971)\",\n",
        "\"Never Say Never Again (1983)\"]\n",
        "\n",
        "#list of 007 movies where David Neven features James Bond\n",
        "moviesDavidNeven=[\"Casino Royale (1967)\"]\n",
        "\n",
        "#list of 007 movies where George Lazenby features James Bond\n",
        "moviesGeorgeLazenby=[\"On Her Majesty's Secret Service (1969)\"]\n",
        "\n",
        "#list of 007 movies where Roger Moore features James Bond\n",
        "moviesRogerMoore=[ \"Live and Let Die (1973)\",\n",
        "\"The Man with the Golden Gun (1974)\",\n",
        "\"The Spy Who Loved Me (1977)\",\n",
        "\"Moonraker (1979)\",\n",
        "\"For Your Eyes Only (1981)\",\n",
        "\"Octopussy (1983)\",\n",
        "\"A View to a Kill (1985)\"]\n",
        "\n",
        "#list of 007 movies where Timothy Dalton features James Bond\n",
        "moviesTimothyDalton=[\n",
        "\"The Living Daylights (1987)\",\n",
        "\"Licence to Kill (1989)\"\n",
        "]\n",
        "\n",
        "#list of 007 movies where Pierce Brosnan features James Bond\n",
        "moviesPierceBrosnan=[\n",
        "\"GoldenEye (1995)\",\n",
        "\"Tomorrow Never Dies (1997)\",\n",
        "\"The World Is Not Enough (1999)\",\n",
        "\"Die Another Day (2002)\"\n",
        "]\n",
        "\n",
        "#list of 007 movies where Daniel Craig features James Bond\n",
        "moviesDanielCraig=[\"Casino Royale (2006)\",\n",
        "\"Quantum of Solace (2008)\",\n",
        "\"Skyfall (2012)\",\n",
        "\"Spectre (2015)\"]\n"
      ]
    },
    {
      "cell_type": "markdown",
      "metadata": {
        "id": "miMRVl9SAqfh"
      },
      "source": [
        "**1)** Create a list of lists (movies007). The list will be composed by each list of movies featured by each actor."
      ]
    },
    {
      "cell_type": "code",
      "execution_count": null,
      "metadata": {
        "colab": {
          "base_uri": "https://localhost:8080/"
        },
        "id": "ZjglgOTeAqfi",
        "outputId": "2028fcd2-d830-4f29-8bcd-588629f39d66"
      },
      "outputs": [
        {
          "output_type": "stream",
          "name": "stdout",
          "text": [
            "[['Dr. No (1962)', 'From Russia with Love (1963)', 'Goldfinger (1964)', 'Thunderball (1965)', 'You Only Live Twice (1967)', 'Diamonds Are Forever (1971)', 'Never Say Never Again (1983)'], ['Casino Royale (1967)'], [\"On Her Majesty's Secret Service (1969)\"], ['Live and Let Die (1973)', 'The Man with the Golden Gun (1974)', 'The Spy Who Loved Me (1977)', 'Moonraker (1979)', 'For Your Eyes Only (1981)', 'Octopussy (1983)', 'A View to a Kill (1985)'], ['The Living Daylights (1987)', 'Licence to Kill (1989)'], ['GoldenEye (1995)', 'Tomorrow Never Dies (1997)', 'The World Is Not Enough (1999)', 'Die Another Day (2002)'], ['Casino Royale (2006)', 'Quantum of Solace (2008)', 'Skyfall (2012)', 'Spectre (2015)']]\n"
          ]
        }
      ],
      "source": [
        "#创建一个列表的列表（movies007）。该列表将由每个演员参演的电影列表组成。\n",
        "\n",
        "#Create a list of lists (movies007). This list will contain each actor's list of movies.\n",
        "Movies = [moviesSeanConnery, moviesDavidNeven, moviesGeorgeLazenby,\n",
        "             moviesRogerMoore, moviesTimothyDalton, moviesPierceBrosnan,\n",
        "             moviesDanielCraig]\n",
        "\n",
        "# Initialize an empty list to store all actors' movie lists  初始化一个空列表，用于存放所有演员的电影列表\n",
        "Movies007 = []\n",
        "\n",
        "for each_movies in Movies:   # Loop through each actor's movie list\n",
        "    Movies007.append(each_movies)  # Append each actor's movie list to Movies007\n",
        "\n",
        "\n",
        "print(Movies007)"
      ]
    },
    {
      "cell_type": "markdown",
      "metadata": {
        "id": "_XvEFadDAqfi"
      },
      "source": [
        "**2)** How many movies were played by the first actor to play James Bond?"
      ]
    },
    {
      "cell_type": "code",
      "execution_count": null,
      "metadata": {
        "colab": {
          "base_uri": "https://localhost:8080/"
        },
        "id": "G-Jjc_9KAqfi",
        "outputId": "87994ee8-9798-48d7-bc85-4da180c851b1"
      },
      "outputs": [
        {
          "output_type": "execute_result",
          "data": {
            "text/plain": [
              "7"
            ]
          },
          "metadata": {},
          "execution_count": 1
        }
      ],
      "source": [
        "#list of 007 movies where Sean Connery features James Bond\n",
        "moviesSeanConnery = [\"Dr. No (1962)\",\n",
        "\"From Russia with Love (1963)\",\n",
        "\"Goldfinger (1964)\",\n",
        "\"Thunderball (1965)\",\n",
        "\"You Only Live Twice (1967)\",\n",
        "\"Diamonds Are Forever (1971)\",\n",
        "\"Never Say Never Again (1983)\"]\n",
        "\n",
        "len(moviesSeanConnery)  # Calculates the number of elements in the list.\n"
      ]
    },
    {
      "cell_type": "markdown",
      "metadata": {
        "id": "0Fqi0GLvAqfj"
      },
      "source": [
        "**3)** How many movies were played by the last actor to play James Bond?"
      ]
    },
    {
      "cell_type": "code",
      "execution_count": null,
      "metadata": {
        "colab": {
          "base_uri": "https://localhost:8080/"
        },
        "id": "5kfBwLTTAqfj",
        "outputId": "4b6789c1-90af-4f1b-8111-8bd175e5be6f"
      },
      "outputs": [
        {
          "output_type": "execute_result",
          "data": {
            "text/plain": [
              "4"
            ]
          },
          "metadata": {},
          "execution_count": 2
        }
      ],
      "source": [
        "#list of 007 movies where Daniel Craig features James Bond\n",
        "moviesDanielCraig=[\"Casino Royale (2006)\",\n",
        "\"Quantum of Solace (2008)\",\n",
        "\"Skyfall (2012)\",\n",
        "\"Spectre (2015)\"]\n",
        "\n",
        "len(moviesDanielCraig)"
      ]
    },
    {
      "cell_type": "markdown",
      "metadata": {
        "id": "nCL7ahxjAqfj"
      },
      "source": [
        "**4)** How many actors played the role of James Bond?"
      ]
    },
    {
      "cell_type": "code",
      "execution_count": null,
      "metadata": {
        "colab": {
          "base_uri": "https://localhost:8080/"
        },
        "id": "vZv8KnakAqfj",
        "outputId": "bafe7cfd-c41b-4a36-b862-4c7ace9c358e"
      },
      "outputs": [
        {
          "output_type": "stream",
          "name": "stdout",
          "text": [
            "7\n"
          ]
        }
      ],
      "source": [
        "#Create a list of lists (movies007). This list will contain each actor's list of movies.\n",
        "Movies = [moviesSeanConnery, moviesDavidNeven, moviesGeorgeLazenby, moviesRogerMoore,\n",
        "          moviesTimothyDalton, moviesPierceBrosnan, moviesDanielCraig]\n",
        "\n",
        "actors_number = len(Movies).  # Calculates the number of elements in the list.\n",
        "print(actors_number)"
      ]
    },
    {
      "cell_type": "markdown",
      "metadata": {
        "id": "2zQPSf9nAqfk"
      },
      "source": [
        "**5)**  Create a new list with the number of movies played by each actor"
      ]
    },
    {
      "cell_type": "code",
      "execution_count": null,
      "metadata": {
        "colab": {
          "base_uri": "https://localhost:8080/"
        },
        "id": "kppAD4G_Aqfk",
        "outputId": "0aff6203-6951-46e1-916e-584b7a2ed5db"
      },
      "outputs": [
        {
          "output_type": "stream",
          "name": "stdout",
          "text": [
            "[7, 1, 1, 7, 2, 4, 4]\n"
          ]
        }
      ],
      "source": [
        "#Create a list of lists (movies007). This list will contain each actor's list of movies.\n",
        "Movies = [moviesSeanConnery, moviesDavidNeven, moviesGeorgeLazenby, moviesRogerMoore,\n",
        "          moviesTimothyDalton, moviesPierceBrosnan, moviesDanielCraig]\n",
        "\n",
        "movies_number = []. # store the number of movies for each actor\n",
        "for each_movies in Movies:  # Loop through each actor's movie list\n",
        "    movies_number.append(len(each_movies)). # Append the number of movies of the actor into movies_number\n",
        "print(movies_number)"
      ]
    },
    {
      "cell_type": "code",
      "source": [],
      "metadata": {
        "id": "eemIo4hfnaYn"
      },
      "execution_count": null,
      "outputs": []
    },
    {
      "cell_type": "markdown",
      "metadata": {
        "id": "0kBI5S0tAqfk"
      },
      "source": [
        "**6)**  How many movies were played by the actor who appeared most often in movies?"
      ]
    },
    {
      "cell_type": "code",
      "execution_count": null,
      "metadata": {
        "colab": {
          "base_uri": "https://localhost:8080/"
        },
        "id": "7J8QU99lAqfk",
        "outputId": "c8195b98-800e-4e77-e0d5-9f032edd8bb4"
      },
      "outputs": [
        {
          "output_type": "stream",
          "name": "stdout",
          "text": [
            "7\n"
          ]
        }
      ],
      "source": [
        "# The answer to this question is based on the 5 question.\n",
        "\n",
        "#Create a list of lists (movies007). This list will contain each actor's list of movies.\n",
        "Movies = [moviesSeanConnery, moviesDavidNeven, moviesGeorgeLazenby, moviesRogerMoore,\n",
        "          moviesTimothyDalton, moviesPierceBrosnan, moviesDanielCraig]\n",
        "\n",
        "movies_number = []\n",
        "for each_movies in Movies:\n",
        "    movies_number.append(len(each_movies))\n",
        "\n",
        "print(max(movies_number))"
      ]
    },
    {
      "cell_type": "markdown",
      "metadata": {
        "id": "CRkM4wieAqfl"
      },
      "source": [
        "**7)**  How many movies were played by the actor who appeared in fewer movies?"
      ]
    },
    {
      "cell_type": "code",
      "execution_count": null,
      "metadata": {
        "colab": {
          "base_uri": "https://localhost:8080/"
        },
        "id": "nO8Ufw2uAqfl",
        "outputId": "1b436af5-7f09-422f-8c74-b08513573464"
      },
      "outputs": [
        {
          "output_type": "stream",
          "name": "stdout",
          "text": [
            "1\n"
          ]
        }
      ],
      "source": [
        "# The answer to this question is based on the 5 question.\n",
        "\n",
        "Movies = [moviesSeanConnery, moviesDavidNeven, moviesGeorgeLazenby, moviesRogerMoore,\n",
        "          moviesTimothyDalton, moviesPierceBrosnan, moviesDanielCraig]\n",
        "movies_number = []\n",
        "for each_movies in Movies:\n",
        "    movies_number.append(len(each_movies))\n",
        "\n",
        "print(min(movies_number))"
      ]
    },
    {
      "cell_type": "markdown",
      "metadata": {
        "id": "LMX9if75Aqfl"
      },
      "source": [
        "**8)**  Create a new list (movies007a) with all the films."
      ]
    },
    {
      "cell_type": "code",
      "execution_count": null,
      "metadata": {
        "colab": {
          "base_uri": "https://localhost:8080/"
        },
        "id": "0FrgLLEfAqfl",
        "outputId": "4acb81ee-8a22-4fff-8db4-f1ae66f06dc0"
      },
      "outputs": [
        {
          "output_type": "stream",
          "name": "stdout",
          "text": [
            "['Dr. No (1962)', 'From Russia with Love (1963)', 'Goldfinger (1964)', 'Thunderball (1965)', 'You Only Live Twice (1967)', 'Diamonds Are Forever (1971)', 'Never Say Never Again (1983)', 'Casino Royale (1967)', \"On Her Majesty's Secret Service (1969)\", 'Live and Let Die (1973)', 'The Man with the Golden Gun (1974)', 'The Spy Who Loved Me (1977)', 'Moonraker (1979)', 'For Your Eyes Only (1981)', 'Octopussy (1983)', 'A View to a Kill (1985)', 'The Living Daylights (1987)', 'Licence to Kill (1989)', 'GoldenEye (1995)', 'Tomorrow Never Dies (1997)', 'The World Is Not Enough (1999)', 'Die Another Day (2002)', 'Casino Royale (2006)', 'Quantum of Solace (2008)', 'Skyfall (2012)', 'Spectre (2015)']\n"
          ]
        }
      ],
      "source": [
        "#创建一个新列表（movies007a），包含所有电影。\n",
        "\n",
        "#Create a list of lists (movies007). This list will contain each actor's list of movies.\n",
        "Movies = [moviesSeanConnery, moviesDavidNeven, moviesGeorgeLazenby,\n",
        "             moviesRogerMoore, moviesTimothyDalton, moviesPierceBrosnan,\n",
        "             moviesDanielCraig]\n",
        "\n",
        "Movies007 = []  # Initialize an empty list to store all actors' movie lists  初始化一个空列表，用于存放所有演员的电影列表\n",
        "\n",
        "for each_movies in Movies:   # Loop through each actor's movie list\n",
        "    Movies007.extend(each_movies).  # extend each actor's movie list to Movies007\n",
        "\n",
        "print(Movies007)"
      ]
    },
    {
      "cell_type": "markdown",
      "metadata": {
        "id": "HyIJstg6Aqfl"
      },
      "source": [
        "**9)** Sort the elements of the list"
      ]
    },
    {
      "cell_type": "code",
      "execution_count": null,
      "metadata": {
        "colab": {
          "base_uri": "https://localhost:8080/"
        },
        "id": "6gypna9QAqfl",
        "outputId": "40781c16-010a-4637-c9d8-d7e641ece060"
      },
      "outputs": [
        {
          "output_type": "stream",
          "name": "stdout",
          "text": [
            "[7, 1, 1, 7, 2, 4, 4]\n",
            "Daniel Craig: 4 movies\n",
            "David Neven: 1 movies\n",
            "George Lazenby: 1 movies\n",
            "Pierce Brosnan: 4 movies\n",
            "Roger Moore: 7 movies\n",
            "Sean Connery: 7 movies\n",
            "Timothy Dalton: 2 movies\n"
          ]
        }
      ],
      "source": [
        "#Create a list . This list will contain each actor's.\n",
        "actors = [\"Sean Connery\", \"David Neven\", \"George Lazenby\", \"Roger Moore\",\n",
        "          \"Timothy Dalton\", \"Pierce Brosnan\", \"Daniel Craig\"]\n",
        "\n",
        "#Create a list of lists (movies007). This list will contain each actor's list of movies.\n",
        "Movies = [moviesSeanConnery, moviesDavidNeven, moviesGeorgeLazenby,\n",
        "             moviesRogerMoore, moviesTimothyDalton, moviesPierceBrosnan,\n",
        "             moviesDanielCraig]\n",
        "\n",
        "movies_number = []\n",
        "for each_movies in Movies:\n",
        "    movies_number.append(len(each_movies))\n",
        "print(movies_number)\n",
        "\n",
        "for actor, number in sorted(zip(actors, movies_number)):\n",
        "  print(f\"{actor}: {number} movies\")\n"
      ]
    },
    {
      "cell_type": "code",
      "execution_count": null,
      "metadata": {
        "id": "xzOFp3gsAqfl"
      },
      "outputs": [],
      "source": []
    },
    {
      "cell_type": "markdown",
      "metadata": {
        "id": "nhs47WDHAqfm"
      },
      "source": [
        "**9)** Reverse the order of the list. What will happen if this method is executed twice? Does this method sort the list if it is not sorted?"
      ]
    },
    {
      "cell_type": "code",
      "execution_count": null,
      "metadata": {
        "colab": {
          "base_uri": "https://localhost:8080/"
        },
        "id": "QpietG54Aqfm",
        "outputId": "1a6432d5-97f7-4ea7-c160-acfbaabed0a2"
      },
      "outputs": [
        {
          "output_type": "stream",
          "name": "stdout",
          "text": [
            "[7, 1, 1, 7, 2, 4, 4]\n",
            "Timothy Dalton: 2 movies\n",
            "Sean Connery: 7 movies\n",
            "Roger Moore: 7 movies\n",
            "Pierce Brosnan: 4 movies\n",
            "George Lazenby: 1 movies\n",
            "David Neven: 1 movies\n",
            "Daniel Craig: 4 movies\n"
          ]
        }
      ],
      "source": [
        "actors = [\"Sean Connery\", \"David Neven\", \"George Lazenby\", \"Roger Moore\",\n",
        "          \"Timothy Dalton\", \"Pierce Brosnan\", \"Daniel Craig\"]\n",
        "\n",
        "Movies = [moviesSeanConnery, moviesDavidNeven, moviesGeorgeLazenby,\n",
        "             moviesRogerMoore, moviesTimothyDalton, moviesPierceBrosnan,\n",
        "             moviesDanielCraig]\n",
        "\n",
        "movies_number = []\n",
        "for each_movies in Movies:\n",
        "    movies_number.append(len(each_movies))\n",
        "print(movies_number)\n",
        "\n",
        "for actor, number in sorted(zip(actors, movies_number), reverse = True):\n",
        "  print(f\"{actor}: {number} movies\")\n"
      ]
    },
    {
      "cell_type": "code",
      "execution_count": null,
      "metadata": {
        "id": "orjLmd1qAqfm"
      },
      "outputs": [],
      "source": []
    },
    {
      "cell_type": "markdown",
      "metadata": {
        "id": "MjZYGiW3Aqfm"
      },
      "source": [
        "**10)** What is the index of the movie \"Spectre (2015)\" in the list of movies"
      ]
    },
    {
      "cell_type": "code",
      "execution_count": null,
      "metadata": {
        "colab": {
          "base_uri": "https://localhost:8080/"
        },
        "id": "K4N2nF8vAqfm",
        "outputId": "13bc3ef5-58f0-4634-fc4e-071fd6ac75fa"
      },
      "outputs": [
        {
          "output_type": "stream",
          "name": "stdout",
          "text": [
            "Spectre (2015)\n",
            "Spectre (2015)\n"
          ]
        }
      ],
      "source": [
        "Movies = [moviesSeanConnery, moviesDavidNeven, moviesGeorgeLazenby,\n",
        "             moviesRogerMoore, moviesTimothyDalton, moviesPierceBrosnan,\n",
        "             moviesDanielCraig]\n",
        "print(Movies[-1][-1])\n",
        "print(Movies[6][3])"
      ]
    },
    {
      "cell_type": "markdown",
      "metadata": {
        "id": "8si-wBtjAqfm"
      },
      "source": [
        "**11)** Add the movie \"007 and the bad Guy of the climate change (2020)\" in the 11th position."
      ]
    },
    {
      "cell_type": "code",
      "execution_count": null,
      "metadata": {
        "colab": {
          "base_uri": "https://localhost:8080/"
        },
        "id": "sAQGWVScAqfm",
        "outputId": "2b922c42-3388-442e-95d3-43564ebc5b2e"
      },
      "outputs": [
        {
          "output_type": "stream",
          "name": "stdout",
          "text": [
            "['Dr. No (1962)', 'From Russia with Love (1963)', 'Goldfinger (1964)', 'Thunderball (1965)', 'You Only Live Twice (1967)', 'Diamonds Are Forever (1971)', 'Never Say Never Again (1983)', 'Casino Royale (1967)', \"On Her Majesty's Secret Service (1969)\", 'Live and Let Die (1973)', 'The Man with the Golden Gun (1974)', 'The Spy Who Loved Me (1977)', 'Moonraker (1979)', 'For Your Eyes Only (1981)', 'Octopussy (1983)', 'A View to a Kill (1985)', 'The Living Daylights (1987)', 'Licence to Kill (1989)', 'GoldenEye (1995)', 'Tomorrow Never Dies (1997)', 'The World Is Not Enough (1999)', 'Die Another Day (2002)', 'Casino Royale (2006)', 'Quantum of Solace (2008)', 'Skyfall (2012)', 'Spectre (2015)']\n",
            "['Dr. No (1962)', 'From Russia with Love (1963)', 'Goldfinger (1964)', 'Thunderball (1965)', 'You Only Live Twice (1967)', 'Diamonds Are Forever (1971)', 'Never Say Never Again (1983)', 'Casino Royale (1967)', \"On Her Majesty's Secret Service (1969)\", 'Live and Let Die (1973)', '007 and the bad Guy of the climate change (2020)', 'The Man with the Golden Gun (1974)', 'The Spy Who Loved Me (1977)', 'Moonraker (1979)', 'For Your Eyes Only (1981)', 'Octopussy (1983)', 'A View to a Kill (1985)', 'The Living Daylights (1987)', 'Licence to Kill (1989)', 'GoldenEye (1995)', 'Tomorrow Never Dies (1997)', 'The World Is Not Enough (1999)', 'Die Another Day (2002)', 'Casino Royale (2006)', 'Quantum of Solace (2008)', 'Skyfall (2012)', 'Spectre (2015)']\n"
          ]
        }
      ],
      "source": [
        "Movies = [moviesSeanConnery, moviesDavidNeven, moviesGeorgeLazenby,\n",
        "             moviesRogerMoore, moviesTimothyDalton, moviesPierceBrosnan,\n",
        "             moviesDanielCraig]\n",
        "\n",
        "Movies007 = []\n",
        "\n",
        "for each_movies in Movies:\n",
        "    Movies007.extend(each_movies)\n",
        "\n",
        "print(Movies007)\n",
        "Movies007.insert(10, \"007 and the bad Guy of the climate change (2020)\")\n",
        "print(Movies007)"
      ]
    },
    {
      "cell_type": "code",
      "execution_count": null,
      "metadata": {
        "id": "zi3Ouxg6Aqfm"
      },
      "outputs": [],
      "source": []
    },
    {
      "cell_type": "markdown",
      "metadata": {
        "id": "MLy39rBQAqfn"
      },
      "source": [
        "**12)** It was a mistake. Remove the movie \"007 and the bad Guy of the climate change (2020)\""
      ]
    },
    {
      "cell_type": "code",
      "execution_count": null,
      "metadata": {
        "colab": {
          "base_uri": "https://localhost:8080/"
        },
        "id": "qe4u3HcBAqfn",
        "outputId": "8bce4132-1ac4-4c20-cd48-2623755e5cb0"
      },
      "outputs": [
        {
          "output_type": "stream",
          "name": "stdout",
          "text": [
            "['Dr. No (1962)', 'From Russia with Love (1963)', 'Goldfinger (1964)', 'Thunderball (1965)', 'You Only Live Twice (1967)', 'Diamonds Are Forever (1971)', 'Never Say Never Again (1983)', 'Casino Royale (1967)', \"On Her Majesty's Secret Service (1969)\", 'Live and Let Die (1973)', 'The Man with the Golden Gun (1974)', 'The Spy Who Loved Me (1977)', 'Moonraker (1979)', 'For Your Eyes Only (1981)', 'Octopussy (1983)', 'A View to a Kill (1985)', 'The Living Daylights (1987)', 'Licence to Kill (1989)', 'GoldenEye (1995)', 'Tomorrow Never Dies (1997)', 'The World Is Not Enough (1999)', 'Die Another Day (2002)', 'Casino Royale (2006)', 'Quantum of Solace (2008)', 'Skyfall (2012)', 'Spectre (2015)']\n",
            "['Dr. No (1962)', 'From Russia with Love (1963)', 'Goldfinger (1964)', 'Thunderball (1965)', 'You Only Live Twice (1967)', 'Diamonds Are Forever (1971)', 'Never Say Never Again (1983)', 'Casino Royale (1967)', \"On Her Majesty's Secret Service (1969)\", 'Live and Let Die (1973)', 'The Spy Who Loved Me (1977)', 'Moonraker (1979)', 'For Your Eyes Only (1981)', 'Octopussy (1983)', 'A View to a Kill (1985)', 'The Living Daylights (1987)', 'Licence to Kill (1989)', 'GoldenEye (1995)', 'Tomorrow Never Dies (1997)', 'The World Is Not Enough (1999)', 'Die Another Day (2002)', 'Casino Royale (2006)', 'Quantum of Solace (2008)', 'Skyfall (2012)', 'Spectre (2015)']\n"
          ]
        }
      ],
      "source": [
        "Movies = [moviesSeanConnery, moviesDavidNeven, moviesGeorgeLazenby,\n",
        "             moviesRogerMoore, moviesTimothyDalton, moviesPierceBrosnan,\n",
        "             moviesDanielCraig]\n",
        "\n",
        "Movies007 = []\n",
        "\n",
        "for each_movies in Movies:\n",
        "    Movies007.extend(each_movies)\n",
        "\n",
        "print(Movies007)\n",
        "Movies007.pop(10)\n",
        "print(Movies007)"
      ]
    },
    {
      "cell_type": "code",
      "source": [],
      "metadata": {
        "id": "xP9SF-R2nb_q"
      },
      "execution_count": null,
      "outputs": []
    },
    {
      "cell_type": "code",
      "execution_count": null,
      "metadata": {
        "id": "2AKGyVbNAqfn"
      },
      "outputs": [],
      "source": [
        "•Create a program that simulates rolling dice using OOP. •创建一个使用面向对象编程 (OOP) 模拟掷骰子的程序。\n",
        "\n",
        "•Define a Dice class with:                             •定义一个 Dice 类，其中包含：\n",
        "•an attribute sides (default = 6),                                 •属性 sides（默认值 = 6），\n",
        "•a method roll() that returns a random number between 1 and sides. •方法 roll()，返回 1 到 sides 之间的随机数。\n",
        "\n",
        "•Define a Player class with:\n",
        "•a name,\n",
        "•a method play() that rolls a dice and stores the result.  方法 play() 掷骰子并存储结果。\n",
        "\n",
        "•Create two players and let them roll a dice.\n",
        "The program announces who won (higher roll) or if it’s a tie."
      ]
    },
    {
      "cell_type": "code",
      "source": [
        "import random\n",
        "\n",
        "class Dice:\n",
        "  def __init__(self, sides=6):\n",
        "    self.sides = sides\n",
        "\n",
        "  def roll(self):\n",
        "    return random.randint(1, self.sides)\n",
        "\n",
        "\n",
        "class Player:\n",
        "  def __init__(self, name):\n",
        "    self.name = name\n",
        "\n",
        "  def play(self, dice):\n",
        "    return dice.roll()\n",
        "\n",
        "player1 = Player(\"B\")\n",
        "player2 = Player(\"A\")\n",
        "#dice = Dice()\n",
        "\n",
        "print(player1.play(dice))\n"
      ],
      "metadata": {
        "colab": {
          "base_uri": "https://localhost:8080/"
        },
        "id": "OVkV3r9hoewA",
        "outputId": "544978b8-f02e-4202-adda-88a3db4b8121"
      },
      "execution_count": 48,
      "outputs": [
        {
          "output_type": "stream",
          "name": "stdout",
          "text": [
            "6\n"
          ]
        }
      ]
    }
  ],
  "metadata": {
    "kernelspec": {
      "display_name": "Python 3",
      "language": "python",
      "name": "python3"
    },
    "language_info": {
      "codemirror_mode": {
        "name": "ipython",
        "version": 3
      },
      "file_extension": ".py",
      "mimetype": "text/x-python",
      "name": "python",
      "nbconvert_exporter": "python",
      "pygments_lexer": "ipython3",
      "version": "3.8.5"
    },
    "colab": {
      "provenance": [],
      "include_colab_link": true
    }
  },
  "nbformat": 4,
  "nbformat_minor": 0
}