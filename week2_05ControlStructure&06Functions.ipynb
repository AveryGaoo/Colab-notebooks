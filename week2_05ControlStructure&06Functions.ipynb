{
  "nbformat": 4,
  "nbformat_minor": 0,
  "metadata": {
    "colab": {
      "provenance": [],
      "authorship_tag": "ABX9TyP2r/jZcdc6yGERAjUFnXBt",
      "include_colab_link": true
    },
    "kernelspec": {
      "name": "python3",
      "display_name": "Python 3"
    },
    "language_info": {
      "name": "python"
    }
  },
  "cells": [
    {
      "cell_type": "markdown",
      "metadata": {
        "id": "view-in-github",
        "colab_type": "text"
      },
      "source": [
        "<a href=\"https://colab.research.google.com/github/AveryGaoo/Colab-notebooks/blob/main/week2_05ControlStructure%2606Functions.ipynb\" target=\"_parent\"><img src=\"https://colab.research.google.com/assets/colab-badge.svg\" alt=\"Open In Colab\"/></a>"
      ]
    },
    {
      "cell_type": "code",
      "execution_count": 1,
      "metadata": {
        "colab": {
          "base_uri": "https://localhost:8080/"
        },
        "id": "UzwbjS9iLKcL",
        "outputId": "e1315316-9cd1-4b8d-e101-36f341c5e675"
      },
      "outputs": [
        {
          "output_type": "stream",
          "name": "stdout",
          "text": [
            "0.8333333333333334\n"
          ]
        }
      ],
      "source": [
        "a= 5\n",
        "b =6\n",
        "c = a/b\n",
        "print(c)"
      ]
    },
    {
      "cell_type": "code",
      "source": [
        "# Decision\n",
        "age = int(input(\"you age:\"))\n",
        "if age >= 18:\n",
        "  print(\"You can vote.\")\n",
        "else:\n",
        "  print(\"You cannot vote.\")"
      ],
      "metadata": {
        "colab": {
          "base_uri": "https://localhost:8080/"
        },
        "id": "FYe630qpbWIa",
        "outputId": "790b0af4-692a-46ed-bd33-922052387924"
      },
      "execution_count": 8,
      "outputs": [
        {
          "output_type": "stream",
          "name": "stdout",
          "text": [
            "you age:2\n",
            "You cannot vote.\n"
          ]
        }
      ]
    },
    {
      "cell_type": "code",
      "source": [
        "#If-elif-else structure\n",
        "age = int(input(\"you age:\"))\n",
        "if age < 3:\n",
        "  ticketPrice = 0\n",
        "elif age < 18:\n",
        "  ticketPrice = 5\n",
        "else:\n",
        "  ticketPrice = 10\n",
        "print(f\"Your ticket price is {ticketPrice} Euro.\")"
      ],
      "metadata": {
        "colab": {
          "base_uri": "https://localhost:8080/"
        },
        "id": "nAiiEP_acT09",
        "outputId": "8650f29b-3bf8-494f-e079-227c0f8245ae"
      },
      "execution_count": 15,
      "outputs": [
        {
          "output_type": "stream",
          "name": "stdout",
          "text": [
            "you age:2\n",
            "Your ticket price is 0 Euro.\n"
          ]
        }
      ]
    },
    {
      "cell_type": "code",
      "source": [
        "# Loop --> only input exit, the loop can stop.\n",
        "msg = ''\n",
        "while msg != 'exit':\n",
        "  msg = input('Write a message: ')\n",
        "  print(msg)"
      ],
      "metadata": {
        "colab": {
          "base_uri": "https://localhost:8080/"
        },
        "id": "U4F4_ReddRjU",
        "outputId": "f69bff1c-492c-46f3-e469-cef3e0a57b6d"
      },
      "execution_count": 18,
      "outputs": [
        {
          "output_type": "stream",
          "name": "stdout",
          "text": [
            "Write a message: aa\n",
            "aa\n",
            "Write a message: exit\n",
            "exit\n"
          ]
        }
      ]
    },
    {
      "cell_type": "code",
      "source": [
        "insects = [\"fly\", \"ant\", \"ladybirth\"]\n",
        "for x in insects:\n",
        "  print(x)"
      ],
      "metadata": {
        "colab": {
          "base_uri": "https://localhost:8080/"
        },
        "id": "-InbR_sDeXU2",
        "outputId": "893f0528-147a-4429-a17b-d5dca2af9969"
      },
      "execution_count": 19,
      "outputs": [
        {
          "output_type": "stream",
          "name": "stdout",
          "text": [
            "fly\n",
            "ant\n",
            "ladybirth\n"
          ]
        }
      ]
    },
    {
      "cell_type": "code",
      "source": [
        "insects = [\"fly\", \"ant\", \"ladybirth\"]\n",
        "for x in insects:\n",
        "  if x == \"ant\":\n",
        "    break\n",
        "  print(x)"
      ],
      "metadata": {
        "colab": {
          "base_uri": "https://localhost:8080/"
        },
        "id": "JqaGUeT9ei6k",
        "outputId": "3dd51157-3abf-46dc-fb29-de206488e2d2"
      },
      "execution_count": 21,
      "outputs": [
        {
          "output_type": "stream",
          "name": "stdout",
          "text": [
            "fly\n"
          ]
        }
      ]
    },
    {
      "cell_type": "code",
      "source": [
        "# Nested Loop is a loop inside a loop - 嵌套循环是循环内的循环\n",
        "insects = [\"fly\", \"ant\", \"ladybirth\"]\n",
        "adj = [\"nice\", \"hugly\", \"disgusting\"]\n",
        "for x in adj:\n",
        "  for y in insects:\n",
        "    print(x, y)"
      ],
      "metadata": {
        "colab": {
          "base_uri": "https://localhost:8080/"
        },
        "id": "pQKNvfc0gRWB",
        "outputId": "81b81b98-18fc-4480-f507-47ce9e8c0c89"
      },
      "execution_count": 22,
      "outputs": [
        {
          "output_type": "stream",
          "name": "stdout",
          "text": [
            "nice fly\n",
            "nice ant\n",
            "nice ladybirth\n",
            "hugly fly\n",
            "hugly ant\n",
            "hugly ladybirth\n",
            "disgusting fly\n",
            "disgusting ant\n",
            "disgusting ladybirth\n"
          ]
        }
      ]
    },
    {
      "cell_type": "code",
      "source": [
        "def greet():\n",
        "  print()\n",
        "  print(\"hi\")\n",
        "\n",
        "greet()\n",
        "greet()"
      ],
      "metadata": {
        "colab": {
          "base_uri": "https://localhost:8080/"
        },
        "id": "idmY5K7GiWb8",
        "outputId": "f663e7b1-ae4c-49d4-adaa-8835a22d417c"
      },
      "execution_count": 4,
      "outputs": [
        {
          "output_type": "stream",
          "name": "stdout",
          "text": [
            "\n",
            "hi\n",
            "\n",
            "hi\n"
          ]
        }
      ]
    },
    {
      "cell_type": "code",
      "source": [
        "# pass arguements --> to make function have greater use\n",
        "def greetUser(name):\n",
        "  print(\"hello,\" + name + \"!\")\n",
        "\n",
        "greetUser(\"Jone\")"
      ],
      "metadata": {
        "colab": {
          "base_uri": "https://localhost:8080/"
        },
        "id": "qMynxIGhjYQx",
        "outputId": "f44cb084-1bed-4031-c457-eba33e6c0d31"
      },
      "execution_count": 5,
      "outputs": [
        {
          "output_type": "stream",
          "name": "stdout",
          "text": [
            "hello,Jone!\n"
          ]
        }
      ]
    },
    {
      "cell_type": "code",
      "source": [
        "def greetUser(name = \"Job\"):\n",
        "  print(\"hello,\" + name + \"!\")\n",
        "\n",
        "greetUser(\"Jone\")"
      ],
      "metadata": {
        "colab": {
          "base_uri": "https://localhost:8080/"
        },
        "id": "3yuUdUiihTY2",
        "outputId": "ca2e3efd-54d9-45c0-f5ef-52e58393cd42"
      },
      "execution_count": 33,
      "outputs": [
        {
          "output_type": "stream",
          "name": "stdout",
          "text": [
            "hello,Jone!\n"
          ]
        }
      ]
    },
    {
      "cell_type": "code",
      "source": [
        "# default parameter\n",
        "def greetUser (name = 'Zézinho'):\n",
        "  print (\"Hello,\" + name + \"!\")\n",
        "\n",
        "greetUser()\n",
        "greetUser(\"Bob\")"
      ],
      "metadata": {
        "colab": {
          "base_uri": "https://localhost:8080/"
        },
        "id": "Qke5KOHGke9N",
        "outputId": "f1eff0dd-5cfb-4a0c-e1f8-337cc83e9fd9"
      },
      "execution_count": 7,
      "outputs": [
        {
          "output_type": "stream",
          "name": "stdout",
          "text": [
            "Hello,Zézinho!\n",
            "Hello,Bob!\n"
          ]
        }
      ]
    },
    {
      "cell_type": "code",
      "source": [
        "# Return value\n",
        "def addValues(x=1, y=2):\n",
        "  # takes two values and returns the sum.\n",
        "  return x + y\n",
        "\n",
        "sum = addValues()\n",
        "print(sum)\n",
        "\n",
        "sum = addValues(3, 5)\n",
        "print(sum)"
      ],
      "metadata": {
        "colab": {
          "base_uri": "https://localhost:8080/"
        },
        "id": "oc1trO-ck0ko",
        "outputId": "71908494-5095-4ede-e7c9-f2dc67646e70"
      },
      "execution_count": 14,
      "outputs": [
        {
          "output_type": "stream",
          "name": "stdout",
          "text": [
            "3\n",
            "8\n"
          ]
        }
      ]
    },
    {
      "cell_type": "code",
      "source": [
        "# Sum with default values\n",
        "def addValues (x = 0, y = 0, z = 1):\n",
        "  return x + y + z\n",
        "\n",
        "sum = addValues()\n",
        "print(sum)\n",
        "\n",
        "sum = addValues(3, 5)\n",
        "print(sum)\n",
        "\n",
        "sum = addValues(3, 5, 2)\n",
        "print(sum)"
      ],
      "metadata": {
        "colab": {
          "base_uri": "https://localhost:8080/"
        },
        "id": "ERIE-d_blO9Z",
        "outputId": "d09d52a5-ea61-495c-fc6c-7ff854c5e2ce"
      },
      "execution_count": 11,
      "outputs": [
        {
          "output_type": "stream",
          "name": "stdout",
          "text": [
            "1\n",
            "9\n",
            "10\n"
          ]
        }
      ]
    }
  ]
}