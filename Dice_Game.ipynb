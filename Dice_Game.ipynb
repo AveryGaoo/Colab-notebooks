{
  "nbformat": 4,
  "nbformat_minor": 0,
  "metadata": {
    "colab": {
      "provenance": [],
      "authorship_tag": "ABX9TyOrPgeMduyL7EEV457KHagU",
      "include_colab_link": true
    },
    "kernelspec": {
      "name": "python3",
      "display_name": "Python 3"
    },
    "language_info": {
      "name": "python"
    }
  },
  "cells": [
    {
      "cell_type": "markdown",
      "metadata": {
        "id": "view-in-github",
        "colab_type": "text"
      },
      "source": [
        "<a href=\"https://colab.research.google.com/github/AveryGaoo/PRF_ProgrammingFoundations_notebooks/blob/main/Dice_Game.ipynb\" target=\"_parent\"><img src=\"https://colab.research.google.com/assets/colab-badge.svg\" alt=\"Open In Colab\"/></a>"
      ]
    },
    {
      "cell_type": "code",
      "execution_count": 1,
      "metadata": {
        "id": "O4OKSGq65i-a"
      },
      "outputs": [],
      "source": [
        "# Create a program that simulates rolling dice using OOP.\n",
        "\n",
        "# Define a Dice class with:\n",
        "#   an attribute sides (default = 6)\n",
        "#   a method roll() taht return a random number between 1 and sides\n",
        "\n",
        "# Define a Player class with:\n",
        "#   a name\n",
        "#   a method play() that rolls a dice and stores the result\n",
        "\n",
        "# Create two players and let them roll a dice. The program announces who won(higher roll) or if it's a tie."
      ]
    },
    {
      "cell_type": "code",
      "source": [
        "import random\n",
        "\n",
        "class Dice:\n",
        "  def __init__(self, sides=6):\n",
        "      self.sides = sides\n",
        "      self.roll = random.randint(1,6)\n",
        "\n",
        "class Player:\n",
        "  def __init__(self, name):\n",
        "    self.name = name\n",
        "    self.play = Dice()\n",
        "\n",
        "\n",
        "player_1 = Player(\"A\")\n",
        "player_2 = Player(\"B\")\n",
        "\n",
        "print(f\"{player_1.name}: {player_1.play.roll}\")\n",
        "print(f\"{player_2.name}: {player_2.play.roll}\")\n",
        "\n",
        "if player_1.play.roll > player_2.play.roll:\n",
        "  print(f\"{player_1.name} wins.\")\n",
        "if player_1.play.roll < player_2.play.roll:\n",
        "  print(f\"{player_2.name} wins.\")\n",
        "if player_1.play.roll == player_2.play.roll:\n",
        "  print(\"no wins.\")"
      ],
      "metadata": {
        "colab": {
          "base_uri": "https://localhost:8080/"
        },
        "id": "fj4frUyfI4-n",
        "outputId": "bd1e4648-893e-4248-b356-a9b60aac6a75"
      },
      "execution_count": 21,
      "outputs": [
        {
          "output_type": "stream",
          "name": "stdout",
          "text": [
            "A: 3\n",
            "B: 2\n",
            "A wins.\n"
          ]
        }
      ]
    },
    {
      "cell_type": "code",
      "source": [
        "class Dice:\n",
        "  def __init__(self, sides = 6):\n",
        "      self.sides = sides\n",
        "\n",
        "  def roll(self):\n",
        "      import random\n",
        "      return random.randint(1, self.sides)\n",
        "\n",
        "class Player:\n",
        "  def __init__(self, name):\n",
        "    self.name = name\n",
        "\n",
        "  def play(self):\n",
        "    dice = Dice()\n",
        "    return dice.roll()\n",
        "\n",
        "play1 = Player(\"A\")\n",
        "play2 = Player(\"B\")\n",
        "\n",
        "play1_roll = play1.play()\n",
        "play2_roll = play2.play()\n",
        "\n",
        "print(f\"{play1.name}: {play1_roll}\")\n",
        "print(f\"{play2.name}: {play2_roll}\")\n",
        "\n",
        "if play1_roll > play2_roll:\n",
        "  print(f\"{play1.name} wins.\")\n",
        "if play1_roll < play2_roll:\n",
        "  print(f\"{play2.name} wins.\")\n",
        "if play1_roll == play2_roll:\n",
        "  print(\"no wins.\")"
      ],
      "metadata": {
        "colab": {
          "base_uri": "https://localhost:8080/"
        },
        "id": "ZsS9B5895zWM",
        "outputId": "5e65e7b6-55ad-4954-9580-6a1a36cb8eed"
      },
      "execution_count": 4,
      "outputs": [
        {
          "output_type": "stream",
          "name": "stdout",
          "text": [
            "A: 3\n",
            "B: 2\n",
            "A wins.\n"
          ]
        }
      ]
    }
  ]
}