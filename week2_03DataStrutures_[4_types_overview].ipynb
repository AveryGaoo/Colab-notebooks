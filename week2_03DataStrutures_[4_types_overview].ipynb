{
  "nbformat": 4,
  "nbformat_minor": 0,
  "metadata": {
    "colab": {
      "provenance": [],
      "authorship_tag": "ABX9TyOi4TmXG1xvEdAlKRdMcxn3",
      "include_colab_link": true
    },
    "kernelspec": {
      "name": "python3",
      "display_name": "Python 3"
    },
    "language_info": {
      "name": "python"
    }
  },
  "cells": [
    {
      "cell_type": "markdown",
      "metadata": {
        "id": "view-in-github",
        "colab_type": "text"
      },
      "source": [
        "<a href=\"https://colab.research.google.com/github/AveryGaoo/Colab-notebooks/blob/main/week2_03DataStrutures_%5B4_types_overview%5D.ipynb\" target=\"_parent\"><img src=\"https://colab.research.google.com/assets/colab-badge.svg\" alt=\"Open In Colab\"/></a>"
      ]
    },
    {
      "cell_type": "code",
      "source": [
        "# Iterate though a list\n",
        "shoppingList = [1,'a', 'apple']\n",
        "for purchase in shoppingList:\n",
        "  print(purchase)"
      ],
      "metadata": {
        "colab": {
          "base_uri": "https://localhost:8080/"
        },
        "id": "aDDoMa1nNqSo",
        "outputId": "537d7ba3-02ed-40b7-b866-c733222c9301"
      },
      "execution_count": 2,
      "outputs": [
        {
          "output_type": "stream",
          "name": "stdout",
          "text": [
            "1\n",
            "a\n",
            "apple\n"
          ]
        }
      ]
    },
    {
      "cell_type": "code",
      "source": [
        "# Add an item to a list\n",
        "films =[]\n",
        "films.append('Vice')\n",
        "films.append('Green Book')\n",
        "films.append('Roma')\n",
        "films.append('A Star Is Born')\n",
        "print(films)"
      ],
      "metadata": {
        "colab": {
          "base_uri": "https://localhost:8080/"
        },
        "id": "WDdnYbbhOM4w",
        "outputId": "ba9e09cc-6789-49cb-dceb-a8779ef8056c"
      },
      "execution_count": 3,
      "outputs": [
        {
          "output_type": "stream",
          "name": "stdout",
          "text": [
            "['Vice', 'Green Book', 'Roma', 'A Star Is Born']\n"
          ]
        }
      ]
    },
    {
      "cell_type": "code",
      "source": [
        "# Remove elements --> .pop()\n",
        "films = ['Vice', 'Green Book', 'Roma', 'A Star Is Born']\n",
        "films.pop()\n",
        "print(films)"
      ],
      "metadata": {
        "colab": {
          "base_uri": "https://localhost:8080/"
        },
        "id": "wEDlE0SuOTCg",
        "outputId": "ac9cffea-f7f4-4117-cc09-e59256cda2d0"
      },
      "execution_count": 13,
      "outputs": [
        {
          "output_type": "stream",
          "name": "stdout",
          "text": [
            "['Vice', 'Green Book', 'Roma']\n"
          ]
        }
      ]
    },
    {
      "cell_type": "code",
      "source": [
        "# Remove elements --> .remove(content)\n",
        "films = ['Vice', 'Green Book', 'Roma', 'A Star Is Born']\n",
        "films.remove('A Star Is Born')\n",
        "print(films)"
      ],
      "metadata": {
        "colab": {
          "base_uri": "https://localhost:8080/"
        },
        "id": "kNVY1X1iPawh",
        "outputId": "18674dca-54e9-45f2-c784-bd8257aec5ef"
      },
      "execution_count": 14,
      "outputs": [
        {
          "output_type": "stream",
          "name": "stdout",
          "text": [
            "['Vice', 'Green Book', 'Roma']\n"
          ]
        }
      ]
    },
    {
      "cell_type": "code",
      "source": [
        "# Remove elements --> del films[a] (int == a < len(films))\n",
        "films = ['Vice', 'Green Book', 'Roma', 'A Star Is Born']\n",
        "del films[1]\n",
        "print(films)"
      ],
      "metadata": {
        "colab": {
          "base_uri": "https://localhost:8080/"
        },
        "id": "DdztNBllPsDv",
        "outputId": "be926c9b-5ccb-42b7-845d-f871b9cf7bb4"
      },
      "execution_count": 3,
      "outputs": [
        {
          "output_type": "stream",
          "name": "stdout",
          "text": [
            "['Vice', 'Roma', 'A Star Is Born']\n"
          ]
        }
      ]
    },
    {
      "cell_type": "code",
      "source": [
        "# Remove elements --> del films[a:b]\n",
        "films = ['Vice', 'Green Book', 'Roma', 'A Star Is Born']\n",
        "del films[1:3]\n",
        "print(films)"
      ],
      "metadata": {
        "colab": {
          "base_uri": "https://localhost:8080/"
        },
        "id": "h4XCOFW1QDuw",
        "outputId": "43d47931-bcf2-47db-857d-8d632cc50387"
      },
      "execution_count": 20,
      "outputs": [
        {
          "output_type": "stream",
          "name": "stdout",
          "text": [
            "['Vice', 'A Star Is Born']\n"
          ]
        }
      ]
    },
    {
      "cell_type": "code",
      "source": [
        "# Delete List elements --> .clear(): takes no arguments\n",
        "films = ['Vice', 'Green Book', 'Roma', 'A Star Is Born']\n",
        "films.clear()\n",
        "print(films)"
      ],
      "metadata": {
        "colab": {
          "base_uri": "https://localhost:8080/"
        },
        "id": "V7U9oMZnQW-b",
        "outputId": "fc38fbfe-c5f3-4588-aeb9-601fb3773e90"
      },
      "execution_count": 35,
      "outputs": [
        {
          "output_type": "stream",
          "name": "stdout",
          "text": [
            "[]\n"
          ]
        }
      ]
    },
    {
      "cell_type": "code",
      "source": [
        "# Compress list\n",
        "squares = [x**2 for x in range(1, 4)]\n",
        "print(squares)"
      ],
      "metadata": {
        "colab": {
          "base_uri": "https://localhost:8080/"
        },
        "id": "W0RyaZy6SOm2",
        "outputId": "7102e7ca-a927-4f97-9756-54c2563215e3"
      },
      "execution_count": 38,
      "outputs": [
        {
          "output_type": "stream",
          "name": "stdout",
          "text": [
            "[1, 4, 9]\n"
          ]
        }
      ]
    },
    {
      "cell_type": "code",
      "source": [
        "# Slicing the list --> Obtain the first x elements of the list\n",
        "shoppingList = ['potatoes', 'carrots', 'cod', 'sprouts']\n",
        "firstThree = shoppingList [: 3]\n",
        "print (firstThree)"
      ],
      "metadata": {
        "colab": {
          "base_uri": "https://localhost:8080/"
        },
        "id": "rUi4Us0_TX9l",
        "outputId": "a4611f6a-9056-4a98-8884-b8e09bb240c0"
      },
      "execution_count": 39,
      "outputs": [
        {
          "output_type": "stream",
          "name": "stdout",
          "text": [
            "['potatoes', 'carrots', 'cod']\n"
          ]
        }
      ]
    },
    {
      "cell_type": "code",
      "source": [
        "# = can influence\n",
        "shoppingList = ['milk', 'butter', 'cheese']\n",
        "shopping = shoppingList\n",
        "shoppingList.append('orange')\n",
        "print(shopping)"
      ],
      "metadata": {
        "colab": {
          "base_uri": "https://localhost:8080/"
        },
        "id": "bDac1alVTokL",
        "outputId": "35fa9350-542b-419e-8d3c-af3970e24184"
      },
      "execution_count": 40,
      "outputs": [
        {
          "output_type": "stream",
          "name": "stdout",
          "text": [
            "['milk', 'butter', 'cheese', 'orange']\n"
          ]
        }
      ]
    },
    {
      "cell_type": "code",
      "source": [
        "# .copy() can't influence\n",
        "shoppingList = ['milk', 'butter', 'cheese']\n",
        "shopping = shoppingList.copy()\n",
        "shoppingList.append('orange')\n",
        "print(shopping)"
      ],
      "metadata": {
        "colab": {
          "base_uri": "https://localhost:8080/"
        },
        "id": "RMwtcC5qT8rB",
        "outputId": "c0e78027-8260-4515-fd7c-f7de30796348"
      },
      "execution_count": 49,
      "outputs": [
        {
          "output_type": "stream",
          "name": "stdout",
          "text": [
            "['milk', 'butter', 'cheese']\n"
          ]
        }
      ]
    },
    {
      "cell_type": "code",
      "source": [
        "# tuples are immutable\n",
        "newPurchases= ('bananas', 'beans', 'rice')\n",
        "print (newPurchases [1])"
      ],
      "metadata": {
        "colab": {
          "base_uri": "https://localhost:8080/"
        },
        "id": "KnY9n3nhVcO2",
        "outputId": "a2744897-9fec-4bf5-98eb-a95e301650a5"
      },
      "execution_count": 54,
      "outputs": [
        {
          "output_type": "stream",
          "name": "stdout",
          "text": [
            "beans\n"
          ]
        }
      ]
    },
    {
      "cell_type": "code",
      "source": [
        "# tuples are immutable\n",
        "newPurchases= ('bananas', 'beans', 'rice')\n",
        "newPurchases[1] = 'apple'  #TypeError: 'tuple' object does not support item assignment\n",
        "print (newPurchases [1])"
      ],
      "metadata": {
        "colab": {
          "base_uri": "https://localhost:8080/",
          "height": 198
        },
        "id": "F2HRmDRKV15G",
        "outputId": "d9ffb3ea-1150-4c5e-f4b4-d49ff911e6a5"
      },
      "execution_count": 56,
      "outputs": [
        {
          "output_type": "error",
          "ename": "TypeError",
          "evalue": "'tuple' object does not support item assignment",
          "traceback": [
            "\u001b[0;31m---------------------------------------------------------------------------\u001b[0m",
            "\u001b[0;31mTypeError\u001b[0m                                 Traceback (most recent call last)",
            "\u001b[0;32m/tmp/ipython-input-3635290581.py\u001b[0m in \u001b[0;36m<cell line: 0>\u001b[0;34m()\u001b[0m\n\u001b[1;32m      1\u001b[0m \u001b[0;31m# uples are immutable\u001b[0m\u001b[0;34m\u001b[0m\u001b[0;34m\u001b[0m\u001b[0m\n\u001b[1;32m      2\u001b[0m \u001b[0mnewPurchases\u001b[0m\u001b[0;34m=\u001b[0m \u001b[0;34m(\u001b[0m\u001b[0;34m'bananas'\u001b[0m\u001b[0;34m,\u001b[0m \u001b[0;34m'beans'\u001b[0m\u001b[0;34m,\u001b[0m \u001b[0;34m'rice'\u001b[0m\u001b[0;34m)\u001b[0m\u001b[0;34m\u001b[0m\u001b[0;34m\u001b[0m\u001b[0m\n\u001b[0;32m----> 3\u001b[0;31m \u001b[0mnewPurchases\u001b[0m\u001b[0;34m[\u001b[0m\u001b[0;36m1\u001b[0m\u001b[0;34m]\u001b[0m \u001b[0;34m=\u001b[0m \u001b[0;34m'apple'\u001b[0m  \u001b[0;31m#TypeError: 'tuple' object does not support item assignment\u001b[0m\u001b[0;34m\u001b[0m\u001b[0;34m\u001b[0m\u001b[0m\n\u001b[0m\u001b[1;32m      4\u001b[0m \u001b[0mprint\u001b[0m \u001b[0;34m(\u001b[0m\u001b[0mnewPurchases\u001b[0m \u001b[0;34m[\u001b[0m\u001b[0;36m1\u001b[0m\u001b[0;34m]\u001b[0m\u001b[0;34m)\u001b[0m\u001b[0;34m\u001b[0m\u001b[0;34m\u001b[0m\u001b[0m\n",
            "\u001b[0;31mTypeError\u001b[0m: 'tuple' object does not support item assignment"
          ]
        }
      ]
    },
    {
      "cell_type": "code",
      "source": [
        "# set:{} --> unordered & unique\n",
        "Set1 = {1,2,3,4}\n",
        "Set2 = {4,3,2,1}\n",
        "Set3 = {2,3,4,1,2,3,4}\n",
        "print(Set1 == Set2 == Set3)\n",
        "print(Set3)"
      ],
      "metadata": {
        "colab": {
          "base_uri": "https://localhost:8080/"
        },
        "id": "3r4P-wNC6YqV",
        "outputId": "29749943-cce3-4d81-ab36-c21965dac9dc"
      },
      "execution_count": 10,
      "outputs": [
        {
          "output_type": "stream",
          "name": "stdout",
          "text": [
            "True\n",
            "{1, 2, 3, 4}\n"
          ]
        }
      ]
    },
    {
      "cell_type": "code",
      "source": [
        "# Set --> intersection(&), union(|), difference(-), Symmetric Difference(^)\n",
        "Set1 = {1,2,3,4,9}\n",
        "Set2 = {1,2,3,4,5,6,6}\n",
        "\n",
        "intersection = Set1 & Set2 # both have --> {1, 2, 3, 4}\n",
        "print(intersection)\n",
        "\n",
        "union = Set1 | Set2  # whole --> {1, 2, 3, 4, 5, 6, 9}\n",
        "print(union)\n",
        "\n",
        "difference = Set2 - Set1  # Set2 as a refercence --> {5,6}\n",
        "print(difference)\n",
        "difference2 = Set1 - Set2  # Set1 as a refercence --> {9}\n",
        "print(difference2)\n",
        "\n",
        "symmetric_difference = Set1 ^ Set2  # union - intersection --> {5, 6, 9}\n",
        "print(symmetric_difference)\n"
      ],
      "metadata": {
        "colab": {
          "base_uri": "https://localhost:8080/"
        },
        "id": "9SGKY16B-Rdr",
        "outputId": "a85d33c4-277a-4872-b5d7-f0eec67bbe2e"
      },
      "execution_count": 22,
      "outputs": [
        {
          "output_type": "stream",
          "name": "stdout",
          "text": [
            "{1, 2, 3, 4}\n",
            "{1, 2, 3, 4, 5, 6, 9}\n",
            "{5, 6}\n",
            "{9}\n",
            "{5, 6, 9}\n"
          ]
        }
      ]
    },
    {
      "cell_type": "code",
      "source": [
        "# dictionary --> Add a new key-value pair\n",
        "fruit = {'a':'apple', 2:'banana', 'bob':'cherry'}\n",
        "print(fruit)\n",
        "fruit[10] = 'pomegranate'\n",
        "print(fruit)"
      ],
      "metadata": {
        "colab": {
          "base_uri": "https://localhost:8080/"
        },
        "id": "RkXJLKmxA4aC",
        "outputId": "1b4cb20e-77b2-44ba-e1ce-712005abeef8"
      },
      "execution_count": 28,
      "outputs": [
        {
          "output_type": "stream",
          "name": "stdout",
          "text": [
            "{'a': 'apple', 2: 'banana', 'bob': 'cherry'}\n",
            "{'a': 'apple', 2: 'banana', 'bob': 'cherry', 10: 'pomegranate'}\n"
          ]
        }
      ]
    },
    {
      "cell_type": "code",
      "source": [
        "# dictionary --> Iterating through key-value pair\n",
        "fruit = {'a':'apple', 2:'banana', 'bob':'cherry'}\n",
        "for key, value in fruit.items():\n",
        "  print(key, value)\n",
        "  print(key)\n",
        "  print('The fluit ' + str(key) + ' is ' + value)\n",
        "print(key[1])"
      ],
      "metadata": {
        "colab": {
          "base_uri": "https://localhost:8080/"
        },
        "id": "3RY3OXS1Cu72",
        "outputId": "94dc9295-c6e4-43a1-80ec-a6f33de4a9c7"
      },
      "execution_count": 45,
      "outputs": [
        {
          "output_type": "stream",
          "name": "stdout",
          "text": [
            "a apple\n",
            "a\n",
            "The fluit a is apple\n",
            "2 banana\n",
            "2\n",
            "The fluit 2 is banana\n",
            "bob cherry\n",
            "bob\n",
            "The fluit bob is cherry\n",
            "o\n"
          ]
        }
      ]
    },
    {
      "cell_type": "code",
      "source": [
        "# In dictionary, keys are not repeatable."
      ],
      "metadata": {
        "id": "QQ-CDluAERqq"
      },
      "execution_count": null,
      "outputs": []
    },
    {
      "cell_type": "code",
      "source": [
        "# dictionary --> Iterating\n",
        "fruit = {'a':'apple', 2:'banana', 'bob':'cherry'}\n",
        "\n",
        "for key in fruit.keys():\n",
        "  print(str(key).capitalize() + ' is key.')\n",
        "\n",
        "for value in fruit.values():\n",
        "  print(value.capitalize() + ' is fruit.')"
      ],
      "metadata": {
        "colab": {
          "base_uri": "https://localhost:8080/"
        },
        "id": "4h--TmUHEfDX",
        "outputId": "87d753d5-a45c-4016-b8c2-20d84c52bb2f"
      },
      "execution_count": 52,
      "outputs": [
        {
          "output_type": "stream",
          "name": "stdout",
          "text": [
            "A is key.\n",
            "2 is key.\n",
            "Bob is key.\n",
            "Apple is fruit.\n",
            "Banana is fruit.\n",
            "Cherry is fruit.\n"
          ]
        }
      ]
    },
    {
      "cell_type": "code",
      "source": [
        "\"\"\"\n",
        "Data Types      Ordered       Mutable     unique\n",
        "------------------------------------------------\n",
        "List  -> []       Yes           Yes         No\n",
        "Tuple -> ()       Yes            No         No\n",
        "Set   -> {}        No           Yes        Yes\n",
        "dict  -> {}        No           Yes        Yes (不接受重复的key，后面的会覆盖前面的;可以接受重复的value)\n",
        "\"\"\"\n"
      ],
      "metadata": {
        "colab": {
          "base_uri": "https://localhost:8080/"
        },
        "id": "HfcNfmmrF8aq",
        "outputId": "d52e7554-1efc-4c23-f9dd-9f4db3c0581c"
      },
      "execution_count": 53,
      "outputs": [
        {
          "output_type": "stream",
          "name": "stdout",
          "text": [
            "1\n"
          ]
        }
      ]
    }
  ]
}