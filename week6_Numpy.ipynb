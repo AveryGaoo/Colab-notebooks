{
  "nbformat": 4,
  "nbformat_minor": 0,
  "metadata": {
    "colab": {
      "provenance": [],
      "authorship_tag": "ABX9TyPsgLKtmOHFNuZCAGJPlsJ1",
      "include_colab_link": true
    },
    "kernelspec": {
      "name": "python3",
      "display_name": "Python 3"
    },
    "language_info": {
      "name": "python"
    }
  },
  "cells": [
    {
      "cell_type": "markdown",
      "metadata": {
        "id": "view-in-github",
        "colab_type": "text"
      },
      "source": [
        "<a href=\"https://colab.research.google.com/github/AveryGaoo/PRF_ProgrammingFoundations_notebooks/blob/main/week6_Numpy.ipynb\" target=\"_parent\"><img src=\"https://colab.research.google.com/assets/colab-badge.svg\" alt=\"Open In Colab\"/></a>"
      ]
    },
    {
      "cell_type": "code",
      "execution_count": 1,
      "metadata": {
        "colab": {
          "base_uri": "https://localhost:8080/"
        },
        "id": "G1CbLezCYGjg",
        "outputId": "c0e15a4d-a877-4dd5-b081-00b4bbece57e"
      },
      "outputs": [
        {
          "output_type": "stream",
          "name": "stdout",
          "text": [
            "<class 'numpy.ndarray'>\n"
          ]
        }
      ],
      "source": [
        "import numpy as np\n",
        "c = np.array([1,2,3,4])\n",
        "print(type(c))"
      ]
    },
    {
      "cell_type": "code",
      "source": [
        "import numpy as np\n",
        "\n",
        "b = np.array([[1,2,3],[4,5,6]])\n",
        "shape = b.shape #行：2；列：3\n",
        "rank = np.ndim(b) #几维数组：2\n",
        "size = b.size #多少个元素：6\n",
        "\n",
        "print(shape)\n",
        "print(rank)\n",
        "print(size)\n"
      ],
      "metadata": {
        "colab": {
          "base_uri": "https://localhost:8080/"
        },
        "id": "cb97JTLEYTkZ",
        "outputId": "27d6f728-fef1-4d82-fcbf-7cc39713ec44"
      },
      "execution_count": 4,
      "outputs": [
        {
          "output_type": "stream",
          "name": "stdout",
          "text": [
            "(2, 3)\n",
            "2\n",
            "6\n"
          ]
        }
      ]
    },
    {
      "cell_type": "code",
      "source": [
        "import numpy as np\n",
        "\n",
        "arr = np.array([4, 4, 3, 4, 5, 6, 7, 9, 0, 10, 17, 12])\n",
        "newarr = arr.reshape(3, 4)\n",
        "\n",
        "print(newarr)\n",
        "print(np.ndim(newarr)) #几维数组\n",
        "print(\"\")\n",
        "\n",
        "print(arr.reshape(2, 2, 3))  # 三维数组 2×2×3\n",
        "print(\"\")\n",
        "\n",
        "print(arr.reshape(3, -1))  # -1:自动计算列数 → 3×4\n",
        "print(\"\")\n",
        "\n",
        "print(arr.reshape(-1, 4))  # -1:自动计算行数 → 3×4\n"
      ],
      "metadata": {
        "colab": {
          "base_uri": "https://localhost:8080/"
        },
        "id": "Tnh5F4hXY1Ot",
        "outputId": "320240dd-df9f-4e18-911e-60ff98d93670"
      },
      "execution_count": 9,
      "outputs": [
        {
          "output_type": "stream",
          "name": "stdout",
          "text": [
            "[[ 4  4  3  4]\n",
            " [ 5  6  7  9]\n",
            " [ 0 10 17 12]]\n",
            "2\n",
            "\n",
            "[[[ 4  4  3]\n",
            "  [ 4  5  6]]\n",
            "\n",
            " [[ 7  9  0]\n",
            "  [10 17 12]]]\n",
            "\n",
            "[[ 4  4  3  4]\n",
            " [ 5  6  7  9]\n",
            " [ 0 10 17 12]]\n",
            "\n",
            "[[ 4  4  3  4]\n",
            " [ 5  6  7  9]\n",
            " [ 0 10 17 12]]\n"
          ]
        }
      ]
    },
    {
      "cell_type": "code",
      "source": [
        "import numpy as np\n",
        "\n",
        "a = np.array([4, 4, 3, 4, 5, 6, 7, 9, 0, 10, 17, 12])   #NumPy数组是可变的（mutable），可以直接修改某个位置的值\n",
        "a[2] = 50\n",
        "print(a)\n",
        "\n",
        "print(\"\")\n",
        "\n",
        "b = np.array([[1,2,3],\n",
        "              [4,5,6]])\n",
        "b[1, 2] = 99\n",
        "print(b)"
      ],
      "metadata": {
        "colab": {
          "base_uri": "https://localhost:8080/"
        },
        "id": "EGlxq8zTaCcg",
        "outputId": "5457f879-a4ed-4b5c-c616-b64e44c2be4f"
      },
      "execution_count": 11,
      "outputs": [
        {
          "output_type": "stream",
          "name": "stdout",
          "text": [
            "[ 4  4 50  4  5  6  7  9  0 10 17 12]\n",
            "\n",
            "[[ 1  2  3]\n",
            " [ 4  5 99]]\n"
          ]
        }
      ]
    },
    {
      "cell_type": "code",
      "source": [
        "import numpy as np\n",
        "\n",
        "a = np.zeros((2,2)) #这是 NumPy 创建全 0 数组的函数；\n",
        "print(\"a:\")\n",
        "print(a)  #默认情况下，生成的 0 是 浮点数 (float)，所以显示为 0.\n",
        "print(\"\")\n",
        "\n",
        "a1 = np.zeros((2,2), dtype=int)  #如果想生成整型（int）0，可以加上参数\n",
        "print(\"a1:\")\n",
        "print(a1)\n",
        "print(\"\")\n",
        "\n",
        "b = np.ones((2,2))  #默认数据类型是 float，所以看到的是 1. 而不是整数 1\n",
        "print(\"b:\")\n",
        "print(b)\n",
        "print(\"\")\n",
        "\n",
        "b1 = np.full((2,2), 1)\n",
        "print(\"b1:\")\n",
        "print(b1)\n",
        "print(\"\")\n",
        "\n",
        "c = np.full((2,2), 3)\n",
        "print(\"c:\")\n",
        "print(c)"
      ],
      "metadata": {
        "colab": {
          "base_uri": "https://localhost:8080/"
        },
        "id": "ehIv6x2na-1P",
        "outputId": "f648ddc5-aa2b-4b0f-d92f-31b1f6bfc2e0"
      },
      "execution_count": 30,
      "outputs": [
        {
          "output_type": "stream",
          "name": "stdout",
          "text": [
            "a:\n",
            "[[0. 0.]\n",
            " [0. 0.]]\n",
            "\n",
            "a1:\n",
            "[[0 0]\n",
            " [0 0]]\n",
            "\n",
            "b:\n",
            "[[1. 1.]\n",
            " [1. 1.]]\n",
            "\n",
            "b1:\n",
            "[[1 1]\n",
            " [1 1]]\n",
            "\n",
            "c:\n",
            "[[3 3]\n",
            " [3 3]]\n"
          ]
        }
      ]
    },
    {
      "cell_type": "code",
      "source": [
        "import numpy as np\n",
        "\n",
        "d = np.eye(3)  #创建一个 3×3 的单位矩阵  单位矩阵的特点是：主对角线上的元素都是 1，其他位置都是 0；\n",
        "print(d)\n",
        "print(\"\")\n",
        "\n",
        "d = np.eye(4, dtype = int)\n",
        "print(d)\n"
      ],
      "metadata": {
        "id": "qDf5bmwpdV26"
      },
      "execution_count": null,
      "outputs": []
    },
    {
      "cell_type": "code",
      "source": [
        "#NumPy 中的数组合并：SQL 是通过“键”（key）来连接数据；NumPy 是通过“轴（axis）”来拼接数组的\n",
        "import numpy as np\n",
        "\n",
        "a = np.array([[1, 2], [3, 4]])\n",
        "\n",
        "b = np.array([[5, 6], [7, 8]])\n",
        "\n",
        "c = np.concatenate((a, b), axis=0) #按行（axis=0）拼接 → 垂直堆叠（vertical stack） 两个数组上下拼接在一起（多了行）。\n",
        "print(c)\n",
        "print(\"\")\n",
        "\n",
        "d = np.concatenate((a, b), axis=1) #按列（axis=1）拼接 → 水平堆叠（horizontal stack）两个数组左右拼接在一起（多了列）\n",
        "print(d)\n",
        "print(\"\")\n",
        "\n",
        "e = np.vstack((a, b))\n",
        "print(e)\n",
        "print(\"\")\n",
        "\n",
        "f = np.hstack((a, b))\n",
        "print(f)\n",
        "print(\"\")"
      ],
      "metadata": {
        "colab": {
          "base_uri": "https://localhost:8080/"
        },
        "id": "bEGcJSVThUhT",
        "outputId": "d9cf19b2-6bb4-4db0-a4db-6fd49661cf27"
      },
      "execution_count": 15,
      "outputs": [
        {
          "output_type": "stream",
          "name": "stdout",
          "text": [
            "[[1 2]\n",
            " [3 4]\n",
            " [5 6]\n",
            " [7 8]]\n",
            "\n",
            "[[1 2 5 6]\n",
            " [3 4 7 8]]\n",
            "\n",
            "[[1 2]\n",
            " [3 4]\n",
            " [5 6]\n",
            " [7 8]]\n",
            "\n",
            "[[1 2 5 6]\n",
            " [3 4 7 8]]\n",
            "\n"
          ]
        }
      ]
    },
    {
      "cell_type": "markdown",
      "source": [
        "对于 二维数组：\n",
        "\n",
        "垂直拼接 (axis=0)：列数必须相同（同宽才能上下拼）；\n",
        "\n",
        "水平拼接 (axis=1)：行数必须相同（同高才能左右拼）。\n",
        "\n",
        "对于 一维数组 hstack/vstack 行为有点不同（看下面示例）。"
      ],
      "metadata": {
        "id": "kigiLgJaiIt5"
      }
    },
    {
      "cell_type": "code",
      "source": [
        "a = np.array([[1, 2],\n",
        "              [3, 4]])\n",
        "\n",
        "b = np.array([[5, 6],\n",
        "              [7, 8]])\n",
        "\n",
        "# np.stack 在拼接时会创建一个新的轴，结果维度会增 1\n",
        "A = np.stack((a,b), axis=0)  # shape (2,2,2) ：两个 2x2 的“块”\n",
        "B = np.stack((a,b), axis=1)  # shape (2,2,2) ：在另一个轴插入\n",
        "print(A)\n",
        "\n",
        "print(\"\")\n",
        "print(\"\")\n",
        "\n",
        "print(B)\n"
      ],
      "metadata": {
        "colab": {
          "base_uri": "https://localhost:8080/"
        },
        "id": "F-C5oxROiMB8",
        "outputId": "104ceeb8-b9c5-4d18-871d-0eb8f1581907"
      },
      "execution_count": 40,
      "outputs": [
        {
          "output_type": "stream",
          "name": "stdout",
          "text": [
            "[[[1 2]\n",
            "  [3 4]]\n",
            "\n",
            " [[5 6]\n",
            "  [7 8]]]\n",
            "\n",
            "\n",
            "[[[1 2]\n",
            "  [5 6]]\n",
            "\n",
            " [[3 4]\n",
            "  [7 8]]]\n"
          ]
        }
      ]
    },
    {
      "cell_type": "code",
      "source": [
        "import numpy as np\n",
        "\n",
        "a = np.array([[1,2],\n",
        "              [3,4]])\n",
        "b = np.array([[5,6],\n",
        "              [7,8]])\n",
        "\n",
        "print(\"a.shape =\", a.shape)\n",
        "print(\"b.shape =\", b.shape)\n"
      ],
      "metadata": {
        "colab": {
          "base_uri": "https://localhost:8080/"
        },
        "id": "RgK90KrZeLb0",
        "outputId": "91c8551b-1589-461e-df1a-f76cfe6b0e7a"
      },
      "execution_count": 1,
      "outputs": [
        {
          "output_type": "stream",
          "name": "stdout",
          "text": [
            "a.shape = (2, 2)\n",
            "b.shape = (2, 2)\n"
          ]
        }
      ]
    },
    {
      "cell_type": "code",
      "source": [
        "c = np.array([[9, 9]])   # shape (1, 2)\n",
        "print(c.shape)\n"
      ],
      "metadata": {
        "colab": {
          "base_uri": "https://localhost:8080/"
        },
        "id": "DgPx9N_2eUT5",
        "outputId": "da1cb005-5204-41b2-f517-44c88e000c69"
      },
      "execution_count": 3,
      "outputs": [
        {
          "output_type": "stream",
          "name": "stdout",
          "text": [
            "(1, 2)\n"
          ]
        }
      ]
    },
    {
      "cell_type": "code",
      "source": [
        "if a.shape[1] == c.shape[1]:\n",
        "    print(\"✅ 可以垂直拼接\")\n",
        "else:\n",
        "    print(\"❌ 列数不同，不能垂直拼接\")\n",
        "\n",
        "if a.shape[0] == c.shape[0]:\n",
        "    print(\"✅ 可以水平拼接\")\n",
        "else:\n",
        "    print(\"❌ 行数不同，不能水平拼接\")"
      ],
      "metadata": {
        "colab": {
          "base_uri": "https://localhost:8080/"
        },
        "id": "mqZqG4I_eahw",
        "outputId": "87cc6f57-4cf9-4bad-b32e-3c0ab51fc5d7"
      },
      "execution_count": 4,
      "outputs": [
        {
          "output_type": "stream",
          "name": "stdout",
          "text": [
            "✅ 可以垂直拼接\n",
            "❌ 行数不同，不能水平拼接\n"
          ]
        }
      ]
    },
    {
      "cell_type": "code",
      "source": [
        "import numpy as np\n",
        "arr1 = np.array([1, 2, 3])\n",
        "arr2 = np.array([4, 5, 6])\n",
        "print(arr1.shape)\n",
        "print(arr2.shape)\n",
        "#输出 (3，) 表示一维数组，只有一个轴（axis 0），长度是 3，也就是说数组有 3 个元素\n",
        "#为什么不是（1，3）？因为它不是二维数组；\n",
        "print(\"\")\n",
        "\n",
        "arr3 = np.array([[1, 2, 3]])\n",
        "print(arr3.shape) # 输出 (1, 3)因为它是二维数组；\n"
      ],
      "metadata": {
        "colab": {
          "base_uri": "https://localhost:8080/"
        },
        "id": "qnzrNPpFe7JF",
        "outputId": "d8d4e01b-40b0-4683-f182-af4fec8223fb"
      },
      "execution_count": 27,
      "outputs": [
        {
          "output_type": "stream",
          "name": "stdout",
          "text": [
            "(3,)\n",
            "(3,)\n",
            "\n",
            "(1, 3)\n"
          ]
        }
      ]
    },
    {
      "cell_type": "markdown",
      "source": [
        "| 数组类型 | shape     | axis=0 意思   | axis=1 意思         |\n",
        "| ---- | --------- | ----------- | ----------------- |\n",
        "| 一维   | (N,)      | 沿唯一方向拼接（变长） | ❌ 不存在             |\n",
        "| 二维   | (M, N)    | 垂直方向（行数增加）  | 水平方向（列数增加）        |\n",
        "| 三维   | (X, Y, Z) | 在“块”维度上拼接   | 行或列方向拼接（取决于 axis） |\n",
        "\n"
      ],
      "metadata": {
        "id": "0aQDQgOuhXWz"
      }
    },
    {
      "cell_type": "markdown",
      "source": [
        "| 函数                     | 是否创建新维度            | 要求维度是否相同      | 举例效果           |\n",
        "| ---------------------- | ------------------ | ------------- | -------------- |\n",
        "| **`np.concatenate()`** | ❌ 不创建新维度（只是沿现有轴拼接） | ✅ 所有数组的维度必须相同 | 拼接：接在后面        |\n",
        "| **`np.stack()`**       | ✅ 会创建一个新维度         | ✅ 所有数组形状必须相同  | 堆叠：像“叠积木”一样加一层 |\n"
      ],
      "metadata": {
        "id": "f0BiCsupi6Jc"
      }
    },
    {
      "cell_type": "code",
      "source": [
        "import numpy as np\n",
        "arr1 = np.array([1, 2, 3])\n",
        "arr2 = np.array([4, 5, 6])\n",
        "\n",
        "a = np.concatenate((arr1, arr2), axis = 0)  #一维数组，在使用concatenate时，不会增加维度，所以只有axis=0的可能性；\n",
        "print(\"a:\")\n",
        "print(a)\n",
        "print(a.shape)\n",
        "print(\"\")\n",
        "\n",
        "b = np.stack((arr1, arr2), axis = 0) #会增加维度,垂直堆叠，增加行数；\n",
        "print(\"b:\")\n",
        "print(b)\n",
        "print(b.shape)\n",
        "print(\"\")\n",
        "\n",
        "c = np.stack((arr1, arr2), axis = 1) #⚠️会增加维度，水平堆叠，增加列数；\n",
        "print(\"c:\")\n",
        "print(c)\n",
        "print(c.shape)\n",
        "print(\"\")\n",
        "\n",
        "A = np.array([[1, 2], [3, 4]])\n",
        "B = np.array([[5, 6], [7, 8]])\n",
        "D = np.stack((A,B), axis=1)\n",
        "print(\"D:\")\n",
        "print(D)\n",
        "print(D.shape)"
      ],
      "metadata": {
        "colab": {
          "base_uri": "https://localhost:8080/"
        },
        "id": "MmxuRlR0heOz",
        "outputId": "27b605dd-cea8-4c71-b9b8-3cd913504451"
      },
      "execution_count": 1,
      "outputs": [
        {
          "output_type": "stream",
          "name": "stdout",
          "text": [
            "a:\n",
            "[1 2 3 4 5 6]\n",
            "(6,)\n",
            "\n",
            "b:\n",
            "[[1 2 3]\n",
            " [4 5 6]]\n",
            "(2, 3)\n",
            "\n",
            "c:\n",
            "[[1 4]\n",
            " [2 5]\n",
            " [3 6]]\n",
            "(3, 2)\n",
            "\n",
            "D:\n",
            "[[[1 2]\n",
            "  [5 6]]\n",
            "\n",
            " [[3 4]\n",
            "  [7 8]]]\n",
            "(2, 2, 2)\n"
          ]
        }
      ]
    },
    {
      "cell_type": "markdown",
      "source": [
        "np.stack() 会在 axis 指定的地方加一个新维度，\n",
        "它不会“拼行”或“拼列”，而是在更高维度上组合。"
      ],
      "metadata": {
        "id": "IuVhkTt3T7b4"
      }
    },
    {
      "cell_type": "code",
      "source": [
        "import numpy as np\n",
        "a = np.array([[1,2,3,4], [5,6,7,8], [9,10,11,12]])\n",
        "print(a)\n",
        "print(\"\")\n",
        "\n",
        "b = a[:3, 1:3] #切片\n",
        "print(b)\n",
        "print(\"\")\n",
        "\n",
        "bCopyA= a[:3, 1:3].copy()\n",
        "bCopyA[0, 0] = 99\n",
        "print(\"bCopyA:\")\n",
        "print(bCopyA)\n",
        "print(\"a:\")\n",
        "print(a)\n",
        "print(\"\")\n",
        "\n",
        "b[0, 0] = 99\n",
        "print(a)\n",
        "print(\"\")"
      ],
      "metadata": {
        "colab": {
          "base_uri": "https://localhost:8080/"
        },
        "id": "xsB6xMHTT9Ry",
        "outputId": "204774a2-b822-40f0-8fdb-729db3bcf24a"
      },
      "execution_count": 2,
      "outputs": [
        {
          "output_type": "stream",
          "name": "stdout",
          "text": [
            "[[ 1  2  3  4]\n",
            " [ 5  6  7  8]\n",
            " [ 9 10 11 12]]\n",
            "\n",
            "[[ 2  3]\n",
            " [ 6  7]\n",
            " [10 11]]\n",
            "\n",
            "bCopyA:\n",
            "[[99  3]\n",
            " [ 6  7]\n",
            " [10 11]]\n",
            "a:\n",
            "[[ 1  2  3  4]\n",
            " [ 5  6  7  8]\n",
            " [ 9 10 11 12]]\n",
            "\n",
            "[[ 1 99  3  4]\n",
            " [ 5  6  7  8]\n",
            " [ 9 10 11 12]]\n",
            "\n"
          ]
        }
      ]
    },
    {
      "cell_type": "code",
      "source": [
        "import numpy as np\n",
        "a = np.array([[1,2,3,4], [5,6,7,8], [9,10,11,12],[13,14,15,16]])\n",
        "print(a)\n",
        "print(\"\")\n",
        "\n",
        "# 花式索引（fancy indexing）：\n",
        "# a[np.arange(4),b] 的意思是从矩阵a的第i行中，取第b[i]列的元素；\n",
        "b = np.array([0, 2, 0, 1])\n",
        "print(a[np.arange(4), b])   # np.arange(4) -> [0,1,2,3]\n",
        "print(\"\")\n",
        "\n",
        "a[np.arange(4), b] += 10\n",
        "print(a)"
      ],
      "metadata": {
        "colab": {
          "base_uri": "https://localhost:8080/"
        },
        "id": "i9Qx44GEiLG-",
        "outputId": "4beb9c63-b64a-46fa-a866-d69ca8b9f927"
      },
      "execution_count": 7,
      "outputs": [
        {
          "output_type": "stream",
          "name": "stdout",
          "text": [
            "[[ 1  2  3  4]\n",
            " [ 5  6  7  8]\n",
            " [ 9 10 11 12]\n",
            " [13 14 15 16]]\n",
            "\n",
            "[ 1  7  9 14]\n",
            "\n",
            "[[11  2  3  4]\n",
            " [ 5  6 17  8]\n",
            " [19 10 11 12]\n",
            " [13 24 15 16]]\n"
          ]
        }
      ]
    },
    {
      "cell_type": "code",
      "source": [
        "import numpy as np\n",
        "grades = np.array([14,12,13,14,15,14,14])\n",
        "x = np.where(grades == 14)  #where会生成一个bool数组\n",
        "\n",
        "print(x)\n",
        "print(x[0])\n",
        "print(grades[x])"
      ],
      "metadata": {
        "colab": {
          "base_uri": "https://localhost:8080/"
        },
        "id": "7IpUVHzR3vQg",
        "outputId": "5ebee9cd-7cac-44aa-c43b-a5dd38130136"
      },
      "execution_count": 14,
      "outputs": [
        {
          "output_type": "stream",
          "name": "stdout",
          "text": [
            "(array([0, 3, 5, 6]),)\n",
            "[0 3 5 6]\n",
            "[14 14 14 14]\n"
          ]
        }
      ]
    },
    {
      "cell_type": "code",
      "source": [
        "import numpy as np\n",
        "e = np.random.random((4,4))\n",
        "print(e)"
      ],
      "metadata": {
        "colab": {
          "base_uri": "https://localhost:8080/"
        },
        "id": "pm9wheJG5W9Y",
        "outputId": "9fa38b87-13be-4eaa-bfb7-95143f5a1417"
      },
      "execution_count": 23,
      "outputs": [
        {
          "output_type": "stream",
          "name": "stdout",
          "text": [
            "[[0.6204235  0.16226693 0.11109153 0.23233991]\n",
            " [0.47649702 0.99821131 0.57984535 0.89620476]\n",
            " [0.08591971 0.01062314 0.97270487 0.60458068]\n",
            " [0.47455572 0.16311199 0.26471882 0.78005358]]\n"
          ]
        }
      ]
    },
    {
      "cell_type": "markdown",
      "source": [
        "✅ 总结：\n",
        "\n",
        "· np.random.random((m, n)) → 生成一个形状为 (m, n) 的随机小数矩阵。\n",
        "\n",
        "· 数值范围：[0, 1)\n",
        "\n",
        "· 如果想固定随机结果：np.random.seed(数字)\n",
        "    ⚠️：数字可以是任何整数（如 0, 1, 42）；种子相同 → 随机结果相同；种子不同 → 随机结果不同"
      ],
      "metadata": {
        "id": "KD8hRrn16eqE"
      }
    },
    {
      "cell_type": "markdown",
      "source": [
        "| 功能   | `random` 模块       | `np.random`                |\n",
        "| ---- | ----------------- | -------------------------- |\n",
        "| 来源   | Python 标准库        | NumPy 库                    |\n",
        "| 返回   | 单个随机数             | 可生成数组或矩阵                   |\n",
        "| 典型用法 | `random.random()` | `np.random.random((m, n))` |\n",
        "| 应用场景 | 简单脚本、游戏           | 科学计算、数据分析、机器学习             |\n"
      ],
      "metadata": {
        "id": "1nwENzck7avt"
      }
    },
    {
      "cell_type": "code",
      "source": [
        "from numpy import random\n",
        "x = random.randint(100)   #-> [0,100)\n",
        "print(x)\n",
        "\n",
        "y = random.rand()\n",
        "print(y)"
      ],
      "metadata": {
        "colab": {
          "base_uri": "https://localhost:8080/"
        },
        "id": "DPggSquE7fod",
        "outputId": "181bd438-11f6-4ca1-93a4-8f0374e3588b"
      },
      "execution_count": 28,
      "outputs": [
        {
          "output_type": "stream",
          "name": "stdout",
          "text": [
            "59\n",
            "0.8490832337225389\n"
          ]
        }
      ]
    },
    {
      "cell_type": "markdown",
      "source": [
        "| 导入方式                       | 使用方式               | 适用场景                |\n",
        "| -------------------------- | ------------------ | ------------------- |\n",
        "| `import numpy as np`       | `np.random.rand()` | 导入整个 NumPy 库，常用，更全面 |\n",
        "| `from numpy import random` | `random.rand()`    | 只想用随机模块，名字更短、更直接    |\n"
      ],
      "metadata": {
        "id": "By2yIJE58n3O"
      }
    },
    {
      "cell_type": "markdown",
      "source": [
        "| 函数                    | 功能      | 返回类型  | 范围         | 示例     |\n",
        "| --------------------- | ------- | ----- | ---------- | ------ |\n",
        "| `random.randint(100)` | 生成随机整数  | int   | [0, 100)   | 42     |\n",
        "| `random.rand()`       | 生成随机浮点数 | float | [0.0, 1.0) | 0.7392 |\n"
      ],
      "metadata": {
        "id": "IbN4zkn59Cad"
      }
    },
    {
      "cell_type": "code",
      "source": [
        "from numpy import random\n",
        "\n",
        "#生成随机指定行列的整数数组\n",
        "x1 = random.randint(100, size = (2))   #-> [0,100)\n",
        "x2 = random.randint(100, size=(2,3))   #-> [0,100)\n",
        "print(x1)\n",
        "print(\"\")\n",
        "print(x2)\n",
        "print(\"\")\n",
        "\n",
        "#生成随机指定行列的小数数组，默认[0,1)范围\n",
        "#⚠️：rand不支持size参数，直接添加就可以，见下：\n",
        "y1 = random.rand(2)\n",
        "y2 = random.rand(2,3)\n",
        "print(y1)\n",
        "print(\"\")\n",
        "print(y2)\n",
        "print(\"\")\n",
        "\n",
        "#如果想扩大范围，不仅仅局限于0到1，可以用指定区间函数uniform（）：\n",
        "z = random.uniform(low=1, high=3, size=(2,3))\n",
        "print(z)"
      ],
      "metadata": {
        "colab": {
          "base_uri": "https://localhost:8080/"
        },
        "id": "t8vTl_Cl9NDk",
        "outputId": "559c1a80-9e65-4c60-b501-c68738d28fd6"
      },
      "execution_count": 45,
      "outputs": [
        {
          "output_type": "stream",
          "name": "stdout",
          "text": [
            "[24 43]\n",
            "\n",
            "[[97 61 77]\n",
            " [64 54 19]]\n",
            "\n",
            "[0.91362806 0.33660464]\n",
            "\n",
            "[[0.53323492 0.19366818 0.70229985]\n",
            " [0.06072187 0.77826876 0.2448591 ]]\n",
            "\n",
            "[[2.75884877 2.07057283 1.00579836]\n",
            " [1.76537913 2.66247563 1.53952586]]\n"
          ]
        }
      ]
    },
    {
      "cell_type": "markdown",
      "source": [
        "✅ 总结\n",
        "\n",
        "random.normal(loc, scale, size) → 生成正态分布(Normal\n",
        "Distribution)随机数\n",
        "\n",
        "参数解释：\n",
        "\n",
        "loc → 均值（最可能的值）\n",
        "\n",
        "scale → 标准差（数据的散布程度）\n",
        "\n",
        "size → 数组大小"
      ],
      "metadata": {
        "id": "_ge_ntPXEzjG"
      }
    },
    {
      "cell_type": "code",
      "source": [
        "from numpy import random\n",
        "x = random.normal(loc=1, scale=2, size=(2,3)) #99.7% -> [1-3*2, 1+3*2]\n",
        "print(x)\n"
      ],
      "metadata": {
        "colab": {
          "base_uri": "https://localhost:8080/"
        },
        "id": "cU8SXXMVE10v",
        "outputId": "0e865efa-f766-4f72-a780-2dbc799192d5"
      },
      "execution_count": 55,
      "outputs": [
        {
          "output_type": "stream",
          "name": "stdout",
          "text": [
            "[[ 2.2596921   0.72212062  2.21844925]\n",
            " [ 3.72285395 -0.96795672 -0.05025943]]\n"
          ]
        }
      ]
    },
    {
      "cell_type": "markdown",
      "source": [
        "1️⃣ 二项分布的概念\n",
        "\n",
        "Binomial Distribution（二项分布） 是 离散分布（Discrete Distribution）\n",
        "\n",
        "它描述在 n 次独立试验中，某事件发生的次数。\n",
        "\n",
        "事件是二元的（Binary）：只有两种可能结果，例如：\n",
        "\n",
        "扔硬币 → 正面（head）或反面（tail）\n",
        "\n",
        "是否成功 → 成功或失败\n",
        "\n",
        "举例：掷 10 次硬币，出现正面的次数就是二项分布随机变量。"
      ],
      "metadata": {
        "id": "dbhbcig_IcOv"
      }
    },
    {
      "cell_type": "code",
      "source": [
        "from numpy import random\n",
        "x = random.binomial(n=10, p=0.2, size=10)\n",
        "print(x)"
      ],
      "metadata": {
        "colab": {
          "base_uri": "https://localhost:8080/"
        },
        "id": "iU6_QaIOH4X2",
        "outputId": "b539c671-8c1d-476f-ea87-07c771be838e"
      },
      "execution_count": 63,
      "outputs": [
        {
          "output_type": "stream",
          "name": "stdout",
          "text": [
            "[4 1 2 2 3 2 3 0 3 5]\n"
          ]
        }
      ]
    }
  ]
}