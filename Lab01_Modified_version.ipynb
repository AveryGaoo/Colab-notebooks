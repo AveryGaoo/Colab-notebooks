{
  "nbformat": 4,
  "nbformat_minor": 0,
  "metadata": {
    "colab": {
      "provenance": [],
      "authorship_tag": "ABX9TyNvZWJK3bd5NM7t+u0DkXRY",
      "include_colab_link": true
    },
    "kernelspec": {
      "name": "python3",
      "display_name": "Python 3"
    },
    "language_info": {
      "name": "python"
    }
  },
  "cells": [
    {
      "cell_type": "markdown",
      "metadata": {
        "id": "view-in-github",
        "colab_type": "text"
      },
      "source": [
        "<a href=\"https://colab.research.google.com/github/AveryGaoo/Colab-notebooks/blob/main/Lab01_Modified_version.ipynb\" target=\"_parent\"><img src=\"https://colab.research.google.com/assets/colab-badge.svg\" alt=\"Open In Colab\"/></a>"
      ]
    },
    {
      "cell_type": "code",
      "execution_count": 3,
      "metadata": {
        "colab": {
          "base_uri": "https://localhost:8080/"
        },
        "id": "JTZpdRk7H2vi",
        "outputId": "0a2e3196-d812-4578-8784-41018bbf2326"
      },
      "outputs": [
        {
          "output_type": "stream",
          "name": "stdout",
          "text": [
            "Enter a value: 9.1\n",
            "This is NOT an integer.\n"
          ]
        }
      ],
      "source": [
        "# 1）Verify if a value is integer\n",
        "x = input(\"Enter a value: \")\n",
        "try:\n",
        "    a = int(x)\n",
        "    print(\"This is an integer.\")\n",
        "except ValueError:\n",
        "    print(\"This is NOT an integer.\")"
      ]
    },
    {
      "cell_type": "code",
      "source": [
        "# 2)Verify if a value is even\n",
        "x = input(\"Enter a value: \")\n",
        "\n",
        "try:\n",
        "  num = int(x)\n",
        "  if num % 2 == 0:\n",
        "    print(\"This is an even number.\")\n",
        "  else:\n",
        "    print(\"This is an odd number.\")\n",
        "except ValueError:\n",
        "  print(\"This is NOT an integer.\")"
      ],
      "metadata": {
        "id": "Md8T8EXFJ7ZU"
      },
      "execution_count": null,
      "outputs": []
    },
    {
      "cell_type": "code",
      "source": [
        "# 3) Insert two numbers. Is the first is bigger than the second?\n",
        "a = int(input(\"Enter first number: \"))\n",
        "b = int(input(\"Enter second number: \"))\n",
        "\n",
        "if a > b:\n",
        "    print(\"The first number is greater than the second.\")\n",
        "else:\n",
        "    print(\"The first number is not greater than the second.\")"
      ],
      "metadata": {
        "colab": {
          "base_uri": "https://localhost:8080/"
        },
        "id": "qsdxe9A9LDIj",
        "outputId": "1a7d0cd9-98fd-4f82-8a86-1cf8a4ba77fc"
      },
      "execution_count": 8,
      "outputs": [
        {
          "output_type": "stream",
          "name": "stdout",
          "text": [
            "Enter first number: 5\n",
            "Enter second number: 3\n",
            "The first number is greater than the second.\n"
          ]
        }
      ]
    },
    {
      "cell_type": "code",
      "source": [
        "# 4) Verify if one value is multiple of another\n",
        "a = int(input(\"Enter first number: \"))\n",
        "b = int(input(\"Enter second number: \"))\n",
        "\n",
        "if b != 0 and a % b == 0:\n",
        "    print(f\"{a} is a multiple of {b}.\")\n",
        "else:\n",
        "    print(f\"{a} is NOT a multiple of {b}.\")"
      ],
      "metadata": {
        "colab": {
          "base_uri": "https://localhost:8080/"
        },
        "id": "odvzsBtFLDu3",
        "outputId": "67b0b368-c527-4b8b-98cc-9a28bf386b10"
      },
      "execution_count": 7,
      "outputs": [
        {
          "output_type": "stream",
          "name": "stdout",
          "text": [
            "Enter first number: 6\n",
            "Enter second number: 2\n",
            "6 is a multiple of 2.\n"
          ]
        }
      ]
    },
    {
      "cell_type": "code",
      "source": [
        "# 5) Calculate the interest earn by an investor that invested a capital of 200 during 3 years with an interest rate of 3%. (I= P*R*T)\n",
        "P = 200  #principal\n",
        "R = 0.03\n",
        "T = 3\n",
        "simple_interest = P * R * T\n",
        "print(\"Simple Interest:\", simple_interest)"
      ],
      "metadata": {
        "colab": {
          "base_uri": "https://localhost:8080/"
        },
        "id": "LiPz5mizLI_S",
        "outputId": "dac11edf-4282-462c-d8a3-be33f03656ad"
      },
      "execution_count": 5,
      "outputs": [
        {
          "output_type": "stream",
          "name": "stdout",
          "text": [
            "Simple Interest: 18.0\n"
          ]
        }
      ]
    },
    {
      "cell_type": "code",
      "source": [
        "\"\"\"\n",
        "6）Capital that an investor obtained after investing a capital of 200\n",
        "during 3 years with an interest rate of 3%. (Compound interest)\n",
        "\"\"\"\n",
        "# A = P * (1 + R)^T\n",
        "P = 200\n",
        "R = 0.03\n",
        "T = 3\n",
        "compound_interest = P * (1 + R) ** T\n",
        "print(\"Compound Interest:\", compound_interest)"
      ],
      "metadata": {
        "colab": {
          "base_uri": "https://localhost:8080/"
        },
        "id": "aXqYPSyXLJh9",
        "outputId": "868217be-e78e-4ac5-bf8e-4bd0490220cd"
      },
      "execution_count": 6,
      "outputs": [
        {
          "output_type": "stream",
          "name": "stdout",
          "text": [
            "Compound Interest: 218.5454\n"
          ]
        }
      ]
    },
    {
      "cell_type": "code",
      "source": [
        "\"\"\"\n",
        "7) Calculate your BMI (Body Mass Index)\n",
        "BMI=mass(kg)/height^2(m)\n",
        "\"\"\"\n",
        "mass = 62\n",
        "height = 1.7\n",
        "BMI = mass / (height ** 2)\n",
        "print(\"BMI:\", BMI)"
      ],
      "metadata": {
        "colab": {
          "base_uri": "https://localhost:8080/"
        },
        "id": "i9qJX8BSLhCb",
        "outputId": "35b82cce-6ca5-464b-eb94-58e697891a1f"
      },
      "execution_count": 10,
      "outputs": [
        {
          "output_type": "stream",
          "name": "stdout",
          "text": [
            "BMI: 21.453287197231838\n"
          ]
        }
      ]
    },
    {
      "cell_type": "code",
      "source": [
        "# 8) Calcule the Golden ration\n",
        "import math\n",
        "golden_ratio = (1 + math.sqrt(5)) / 2\n",
        "print(\"Golden Ratio:\", golden_ratio)"
      ],
      "metadata": {
        "colab": {
          "base_uri": "https://localhost:8080/"
        },
        "id": "mKbra_iwLlHj",
        "outputId": "5f6458af-77d5-4fd5-e67a-e3642184043d"
      },
      "execution_count": 11,
      "outputs": [
        {
          "output_type": "stream",
          "name": "stdout",
          "text": [
            "Golden Ratio: 1.618033988749895\n"
          ]
        }
      ]
    },
    {
      "cell_type": "code",
      "source": [
        "\"\"\"\n",
        "9)Calculete the NPV (Net present value) of an investment,\n",
        "considering an initial investment of 10000, the following Cashflows\n",
        "2000,3000, 4000, 4000 and 5000 and a discount rate of 10%.\n",
        "\"\"\"\n",
        "I = 10000\n",
        "FV = [2000, 3000, 4000, 4000, 5000]\n",
        "k = 0.10\n",
        "\n",
        "NPV = sum(cf / (1 + k)**(i+1) for i, cf in enumerate(FV)) - I\n",
        "print(\"NPV =\", round(NPV, 2))"
      ],
      "metadata": {
        "colab": {
          "base_uri": "https://localhost:8080/"
        },
        "id": "QPZzx6eyLpwR",
        "outputId": "51a86458-1ec5-42fa-8223-9d60536eb9b6"
      },
      "execution_count": 12,
      "outputs": [
        {
          "output_type": "stream",
          "name": "stdout",
          "text": [
            "NPV = 3139.44\n"
          ]
        }
      ]
    },
    {
      "cell_type": "code",
      "source": [
        "# 10)\n",
        "from datetime import date\n",
        "\n",
        "name = input(\"Enter your name: \")\n",
        "age = int(input(\"Enter your age: \"))\n",
        "\n",
        "today = date.today()\n",
        "birth_year = today.year - age\n",
        "\n",
        "print(name, \"was born in\", birth_year)"
      ],
      "metadata": {
        "colab": {
          "base_uri": "https://localhost:8080/"
        },
        "id": "MPe-NQ1TLr3b",
        "outputId": "64c477c0-b0ce-40d6-e4cb-3cd8067dc995"
      },
      "execution_count": 13,
      "outputs": [
        {
          "output_type": "stream",
          "name": "stdout",
          "text": [
            "Enter your name: Gao\n",
            "Enter your age: 26\n",
            "Gao was born in 1999\n"
          ]
        }
      ]
    },
    {
      "cell_type": "code",
      "source": [
        "# 11)\n",
        "forename = input(\"Enter your forename(s): \")\n",
        "surname = input(\"Enter your surname(s): \")\n",
        "\n",
        "# Combine into full name\n",
        "name = forename + \" \" + surname\n",
        "\n",
        "# Create different versions\n",
        "nameBig = name.upper()\n",
        "nameTitle = name.title()\n",
        "nameSmall = name.lower()\n",
        "nameCapitalized = name.capitalize()\n",
        "\n",
        "# Print results\n",
        "print(\"Complete name:\", name)\n",
        "print(\"nameBig:\", nameBig)\n",
        "print(\"nameTitle:\", nameTitle)\n",
        "print(\"nameSmall:\", nameSmall)\n",
        "print(\"nameCapitalized:\", nameCapitalized)"
      ],
      "metadata": {
        "colab": {
          "base_uri": "https://localhost:8080/"
        },
        "id": "YMLRSIMKLvRR",
        "outputId": "ad443db9-0dba-4d7a-bf5a-6e4e1f8ebe01"
      },
      "execution_count": 14,
      "outputs": [
        {
          "output_type": "stream",
          "name": "stdout",
          "text": [
            "Enter your forename(s): RUI\n",
            "Enter your surname(s): GAO\n",
            "Complete name: RUI GAO\n",
            "nameBig: RUI GAO\n",
            "nameTitle: Rui Gao\n",
            "nameSmall: rui gao\n",
            "nameCapitalized: Rui gao\n"
          ]
        }
      ]
    },
    {
      "cell_type": "code",
      "source": [
        "# 12)\n",
        "text = \"abracadabra\"\n",
        "pos = text.find(\"da\")\n",
        "print(pos)\n",
        "#What happens if does not find? output -> -1"
      ],
      "metadata": {
        "colab": {
          "base_uri": "https://localhost:8080/"
        },
        "id": "vagi8VtIMAxg",
        "outputId": "9a737fa6-e3f8-4531-e6e7-bd50eab052fd"
      },
      "execution_count": 15,
      "outputs": [
        {
          "output_type": "stream",
          "name": "stdout",
          "text": [
            "6\n"
          ]
        }
      ]
    }
  ]
}